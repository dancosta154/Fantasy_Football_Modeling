{
 "cells": [
  {
   "cell_type": "code",
   "execution_count": 1,
   "id": "05ec4b76-409d-4713-aba4-14de4e4efa63",
   "metadata": {},
   "outputs": [],
   "source": [
    "import pandas as pd\n",
    "import requests\n",
    "import os\n",
    "\n",
    "pd.set_option('display.max_columns', None)\n",
    "pd.set_option('display.max_rows', None)"
   ]
  },
  {
   "cell_type": "markdown",
   "id": "14be5d8d-bf91-4d77-956f-cee49b5008ea",
   "metadata": {},
   "source": [
    "#### Scrape from TeamRankings"
   ]
  },
  {
   "cell_type": "code",
   "execution_count": 2,
   "id": "e2a0b44c-b263-4253-b2ed-55e7c651e09a",
   "metadata": {},
   "outputs": [],
   "source": [
    "if not os.path.exists('./nfl_data/receiving'):\n",
    "    os.mkdir('./nfl_data/receiving')"
   ]
  },
  {
   "cell_type": "code",
   "execution_count": 3,
   "id": "dcbbb322-96af-4c97-81d7-41c44ff0a012",
   "metadata": {},
   "outputs": [
    {
     "name": "stdout",
     "output_type": "stream",
     "text": [
      "('receiving-receptions', 'home') (100, 5)\n",
      "('receiving-receptions', 'division') (100, 5)\n",
      "('receiving-receptions', 'last_2_weeks') (100, 5)\n",
      "('receiving-receptions', 'last_4_weeks') (100, 5)\n",
      "('receiving-receptions', 'top_10_nfl') (100, 5)\n",
      "('receiving-yards', 'home') (100, 5)\n",
      "('receiving-yards', 'division') (100, 5)\n",
      "('receiving-yards', 'last_2_weeks') (100, 5)\n",
      "('receiving-yards', 'last_4_weeks') (100, 5)\n",
      "('receiving-yards', 'top_10_nfl') (100, 5)\n",
      "('receiving-yards-per-catch', 'home') (100, 5)\n",
      "('receiving-yards-per-catch', 'division') (100, 5)\n",
      "('receiving-yards-per-catch', 'last_2_weeks') (12, 5)\n",
      "('receiving-yards-per-catch', 'last_4_weeks') (39, 5)\n",
      "('receiving-yards-per-catch', 'top_10_nfl') (100, 5)\n",
      "('receiving-touchdowns', 'home') (100, 5)\n",
      "('receiving-touchdowns', 'division') (100, 5)\n",
      "('receiving-touchdowns', 'last_2_weeks') (100, 5)\n",
      "('receiving-touchdowns', 'last_4_weeks') (100, 5)\n",
      "('receiving-touchdowns', 'top_10_nfl') (100, 5)\n",
      "('receiving-longest-yards', 'home') (100, 5)\n",
      "('receiving-longest-yards', 'division') (100, 5)\n",
      "('receiving-longest-yards', 'last_2_weeks') (100, 5)\n",
      "('receiving-longest-yards', 'last_4_weeks') (100, 5)\n",
      "('receiving-longest-yards', 'top_10_nfl') (100, 5)\n",
      "('receiving-targeted', 'home') (100, 5)\n",
      "('receiving-targeted', 'division') (100, 5)\n",
      "('receiving-targeted', 'last_2_weeks') (100, 5)\n",
      "('receiving-targeted', 'last_4_weeks') (100, 5)\n",
      "('receiving-targeted', 'top_10_nfl') (100, 5)\n",
      "('receiving-catch-rate', 'home') (100, 5)\n",
      "('receiving-catch-rate', 'division') (100, 5)\n",
      "('receiving-catch-rate', 'last_2_weeks') (12, 5)\n",
      "('receiving-catch-rate', 'last_4_weeks') (39, 5)\n",
      "('receiving-catch-rate', 'top_10_nfl') (100, 5)\n",
      "('receiving-2pt-conversions-succeeded', 'home') (100, 5)\n",
      "('receiving-2pt-conversions-succeeded', 'division') (100, 5)\n",
      "('receiving-2pt-conversions-succeeded', 'last_2_weeks') (100, 5)\n",
      "('receiving-2pt-conversions-succeeded', 'last_4_weeks') (100, 5)\n",
      "('receiving-2pt-conversions-succeeded', 'top_10_nfl') (100, 5)\n"
     ]
    }
   ],
   "source": [
    "stats = ['receiving-receptions', 'receiving-yards', 'receiving-yards-per-catch', 'receiving-touchdowns', \n",
    "        'receiving-longest-yards', 'receiving-targeted', 'receiving-catch-rate', 'receiving-2pt-conversions-succeeded']\n",
    "\n",
    "sub_cats = ['home', 'division', 'last_2_weeks','last_4_weeks', 'top_10_nfl']\n",
    "\n",
    "file_list = []\n",
    "\n",
    "for stat in stats:\n",
    "    for cat in sub_cats:\n",
    "        url = f'https://www.teamrankings.com/nfl/player-stat/{stat}?split={cat}&rate=per-game'\n",
    "        resp = requests.get(url)\n",
    "        output = open(f'./nfl_data/receiving/{stat}_{cat}.xls', 'wb')\n",
    "        output.write(resp.content)\n",
    "        file_list.append(f'./nfl_data/receiving/{stat}_{cat}.xls')\n",
    "        output.close() \n",
    "        data = pd.read_html(f'./nfl_data/receiving/{stat}_{cat}.xls')\n",
    "        df = pd.DataFrame(data[0]) \n",
    "        print((stat, cat), df.shape)"
   ]
  },
  {
   "cell_type": "code",
   "execution_count": 4,
   "id": "543f3cd9-9dec-446a-9032-bda9a5c446b9",
   "metadata": {},
   "outputs": [],
   "source": [
    "# get df started with the 1st file './nfl_data/receiving-receptions_home.xls'.  This way we have something to merge to.\n",
    "\n",
    "df_wr = pd.read_html('./nfl_data/receiving/receiving-receptions_home.xls')\n",
    "df_wr = pd.DataFrame(df_wr[0])\n",
    "# df_rb = df_rb.loc[(df_rb['Pos'] == 'RB')].copy() # filter out non-RBs if wanting to model for ONLY RB's (non-Flex)\n",
    "df_wr.drop(columns = 'Rank', inplace = True) \n",
    "col_name = file_list[0][11:-4]\n",
    "df_wr.rename(columns = {'Value': col_name}, inplace = True)"
   ]
  },
  {
   "cell_type": "code",
   "execution_count": 5,
   "id": "07c3b135-6814-42b6-bcf9-df38b1a1605e",
   "metadata": {},
   "outputs": [
    {
     "name": "stdout",
     "output_type": "stream",
     "text": [
      "The shape of the merged df is (125, 5)\n",
      "The shape of the merged df is (217, 6)\n",
      "The shape of the merged df is (272, 7)\n",
      "The shape of the merged df is (282, 8)\n",
      "The shape of the merged df is (291, 9)\n",
      "The shape of the merged df is (294, 10)\n",
      "The shape of the merged df is (294, 11)\n",
      "The shape of the merged df is (298, 12)\n",
      "The shape of the merged df is (304, 13)\n",
      "The shape of the merged df is (319, 14)\n",
      "The shape of the merged df is (332, 15)\n",
      "The shape of the merged df is (332, 16)\n",
      "The shape of the merged df is (332, 17)\n",
      "The shape of the merged df is (350, 18)\n",
      "The shape of the merged df is (367, 19)\n",
      "The shape of the merged df is (378, 20)\n",
      "The shape of the merged df is (379, 21)\n",
      "The shape of the merged df is (392, 22)\n",
      "The shape of the merged df is (401, 23)\n",
      "The shape of the merged df is (409, 24)\n",
      "The shape of the merged df is (413, 25)\n",
      "The shape of the merged df is (413, 26)\n",
      "The shape of the merged df is (413, 27)\n",
      "The shape of the merged df is (416, 28)\n",
      "The shape of the merged df is (416, 29)\n",
      "The shape of the merged df is (417, 30)\n",
      "The shape of the merged df is (417, 31)\n",
      "The shape of the merged df is (420, 32)\n",
      "The shape of the merged df is (421, 33)\n",
      "The shape of the merged df is (433, 34)\n",
      "The shape of the merged df is (445, 35)\n",
      "The shape of the merged df is (445, 36)\n",
      "The shape of the merged df is (445, 37)\n",
      "The shape of the merged df is (463, 38)\n",
      "The shape of the merged df is (530, 39)\n",
      "The shape of the merged df is (605, 40)\n",
      "The shape of the merged df is (605, 41)\n",
      "The shape of the merged df is (611, 42)\n",
      "The shape of the merged df is (671, 43)\n"
     ]
    }
   ],
   "source": [
    "# read in data, transform, merge\n",
    "for file in file_list[1:]:\n",
    "    data = pd.read_html(file)\n",
    "    df = pd.DataFrame(data[0])\n",
    "    # df = df.loc[(df['Pos'] == 'WR')].copy() # filter to only WR's. Uncomment this if only wanting to see WR's\n",
    "    df.drop(columns = ['Rank', 'Team', 'Pos'], inplace = True)\n",
    "    col_name = file[11:-4]\n",
    "    df.rename(columns = {'Value': col_name}, inplace = True)\n",
    "    df_wr['Player'] = df_wr['Player'].str.lower() # cast column to lowercase for join\n",
    "    df['Player'] = df['Player'].str.lower() # cast column to lowercase for join\n",
    "    df_wr = pd.merge(df_wr, df, on = 'Player', how = 'outer')\n",
    "    print(f'The shape of the merged df is {df_wr.shape}')"
   ]
  },
  {
   "cell_type": "code",
   "execution_count": 6,
   "id": "67c5d389-8d5e-4ac4-8ce1-e4552e095072",
   "metadata": {
    "tags": []
   },
   "outputs": [
    {
     "name": "stdout",
     "output_type": "stream",
     "text": [
      "need to clean column: Player\n",
      "need to clean column: Team\n",
      "need to clean column: Pos\n",
      "success!\n",
      "success!\n",
      "need to clean column: receiving/receiving-receptions_last_2_weeks\n",
      "need to clean column: receiving/receiving-receptions_last_4_weeks\n",
      "success!\n",
      "success!\n",
      "success!\n",
      "need to clean column: receiving/receiving-yards_last_2_weeks\n",
      "need to clean column: receiving/receiving-yards_last_4_weeks\n",
      "success!\n",
      "success!\n",
      "success!\n",
      "success!\n",
      "success!\n",
      "success!\n",
      "success!\n",
      "success!\n",
      "need to clean column: receiving/receiving-touchdowns_last_2_weeks\n",
      "need to clean column: receiving/receiving-touchdowns_last_4_weeks\n",
      "success!\n",
      "success!\n",
      "success!\n",
      "success!\n",
      "success!\n",
      "success!\n",
      "success!\n",
      "success!\n",
      "need to clean column: receiving/receiving-targeted_last_2_weeks\n",
      "need to clean column: receiving/receiving-targeted_last_4_weeks\n",
      "success!\n",
      "need to clean column: receiving/receiving-catch-rate_home\n",
      "need to clean column: receiving/receiving-catch-rate_division\n",
      "need to clean column: receiving/receiving-catch-rate_last_2_weeks\n",
      "need to clean column: receiving/receiving-catch-rate_last_4_weeks\n",
      "need to clean column: receiving/receiving-catch-rate_top_10_nfl\n",
      "need to clean column: receiving/receiving-2pt-conversions-succeeded_home\n",
      "need to clean column: receiving/receiving-2pt-conversions-succeeded_division\n",
      "need to clean column: receiving/receiving-2pt-conversions-succeeded_last_2_weeks\n",
      "need to clean column: receiving/receiving-2pt-conversions-succeeded_last_4_weeks\n",
      "need to clean column: receiving/receiving-2pt-conversions-succeeded_top_10_nfl\n"
     ]
    }
   ],
   "source": [
    "# Attempt to convert all columns to float, those that fail are stored in list\n",
    "numcols_to_change = df_wr.columns\n",
    "numcols_to_change2 = []\n",
    "for col in numcols_to_change:\n",
    "    try:\n",
    "        df_wr[col] = df_wr[col].astype(float)\n",
    "        print('success!')\n",
    "    except:\n",
    "        numcols_to_change2.append(col)\n",
    "        print(f'need to clean column: {col}')"
   ]
  },
  {
   "cell_type": "code",
   "execution_count": 7,
   "id": "454128fb-c358-431c-8955-ab8f68e8cb40",
   "metadata": {
    "tags": []
   },
   "outputs": [
    {
     "data": {
      "text/plain": [
       "['Player',\n",
       " 'Team',\n",
       " 'Pos',\n",
       " 'receiving/receiving-receptions_last_2_weeks',\n",
       " 'receiving/receiving-receptions_last_4_weeks',\n",
       " 'receiving/receiving-yards_last_2_weeks',\n",
       " 'receiving/receiving-yards_last_4_weeks',\n",
       " 'receiving/receiving-touchdowns_last_2_weeks',\n",
       " 'receiving/receiving-touchdowns_last_4_weeks',\n",
       " 'receiving/receiving-targeted_last_2_weeks',\n",
       " 'receiving/receiving-targeted_last_4_weeks',\n",
       " 'receiving/receiving-catch-rate_home',\n",
       " 'receiving/receiving-catch-rate_division',\n",
       " 'receiving/receiving-catch-rate_last_2_weeks',\n",
       " 'receiving/receiving-catch-rate_last_4_weeks',\n",
       " 'receiving/receiving-catch-rate_top_10_nfl',\n",
       " 'receiving/receiving-2pt-conversions-succeeded_home',\n",
       " 'receiving/receiving-2pt-conversions-succeeded_division',\n",
       " 'receiving/receiving-2pt-conversions-succeeded_last_2_weeks',\n",
       " 'receiving/receiving-2pt-conversions-succeeded_last_4_weeks',\n",
       " 'receiving/receiving-2pt-conversions-succeeded_top_10_nfl']"
      ]
     },
     "execution_count": 7,
     "metadata": {},
     "output_type": "execute_result"
    }
   ],
   "source": [
    "# Failed to convert to float are stored in this list\n",
    "numcols_to_change2"
   ]
  },
  {
   "cell_type": "code",
   "execution_count": 8,
   "id": "508c910f-5a09-4b7a-8f50-ef1dd72ed6a4",
   "metadata": {},
   "outputs": [],
   "source": [
    "# Drop rows with '--' in row\n",
    "def drop_rows(position):\n",
    "    for header in position.columns:\n",
    "        index_list = df_wr[df_wr.eq(\"--\").any(1)].index\n",
    "        position.drop(labels=index_list, axis=0, inplace=True)\n",
    "        return\n",
    "drop_rows(df_wr)"
   ]
  },
  {
   "cell_type": "code",
   "execution_count": 9,
   "id": "77fe3802-5e27-4ce3-a59f-7ca286b37717",
   "metadata": {},
   "outputs": [
    {
     "data": {
      "text/plain": [
       "(625, 43)"
      ]
     },
     "execution_count": 9,
     "metadata": {},
     "output_type": "execute_result"
    }
   ],
   "source": [
    "df_wr.shape"
   ]
  },
  {
   "cell_type": "code",
   "execution_count": 10,
   "id": "c63ce569-4d3b-41f1-9006-cac4699e927f",
   "metadata": {
    "tags": []
   },
   "outputs": [
    {
     "name": "stdout",
     "output_type": "stream",
     "text": [
      "need to clean column: Player\n",
      "need to clean column: Team\n",
      "need to clean column: Pos\n",
      "success!\n",
      "success!\n",
      "success!\n",
      "success!\n",
      "success!\n",
      "success!\n",
      "success!\n",
      "success!\n",
      "success!\n",
      "success!\n",
      "success!\n",
      "success!\n",
      "success!\n",
      "success!\n",
      "success!\n",
      "success!\n",
      "success!\n",
      "success!\n",
      "success!\n",
      "success!\n",
      "success!\n",
      "success!\n",
      "success!\n",
      "success!\n",
      "success!\n",
      "success!\n",
      "success!\n",
      "success!\n",
      "success!\n",
      "success!\n",
      "need to clean column: receiving/receiving-catch-rate_home\n",
      "need to clean column: receiving/receiving-catch-rate_division\n",
      "need to clean column: receiving/receiving-catch-rate_last_2_weeks\n",
      "need to clean column: receiving/receiving-catch-rate_last_4_weeks\n",
      "need to clean column: receiving/receiving-catch-rate_top_10_nfl\n",
      "success!\n",
      "success!\n",
      "success!\n",
      "success!\n",
      "success!\n"
     ]
    }
   ],
   "source": [
    "# Second attempt to convert columns to float\n",
    "numcols_to_change2 = []\n",
    "for col in numcols_to_change:\n",
    "    try:\n",
    "        df_wr[col] = df_wr[col].astype(float)\n",
    "        print('success!')\n",
    "    except:\n",
    "        numcols_to_change2.append(col)\n",
    "        print(f'need to clean column: {col}')"
   ]
  },
  {
   "cell_type": "code",
   "execution_count": 11,
   "id": "a7837b1f-ea8a-40d3-8136-e3266e8f589a",
   "metadata": {},
   "outputs": [],
   "source": [
    "# Remove punctuation from `rate` columns\n",
    "def remove_punctuation(column, punc):\n",
    "    return column.replace(punc, '', regex=True, inplace=True)"
   ]
  },
  {
   "cell_type": "code",
   "execution_count": 13,
   "id": "49f6bee2-f571-4694-b96b-68c5b1916a5e",
   "metadata": {},
   "outputs": [],
   "source": [
    "remove_punctuation(df_wr['receiving/receiving-catch-rate_home'], '%')\n",
    "remove_punctuation(df_wr['receiving/receiving-catch-rate_division'], '%')\n",
    "remove_punctuation(df_wr['receiving/receiving-catch-rate_last_2_weeks'], '%')\n",
    "remove_punctuation(df_wr['receiving/receiving-catch-rate_last_4_weeks'], '%')\n",
    "remove_punctuation(df_wr['receiving/receiving-catch-rate_top_10_nfl'], '%')"
   ]
  },
  {
   "cell_type": "code",
   "execution_count": 14,
   "id": "d4206558-a864-4b8d-a23d-a41dd9a364a9",
   "metadata": {
    "tags": []
   },
   "outputs": [
    {
     "name": "stdout",
     "output_type": "stream",
     "text": [
      "need to clean column: Player\n",
      "need to clean column: Team\n",
      "need to clean column: Pos\n",
      "success!\n",
      "success!\n",
      "success!\n",
      "success!\n",
      "success!\n",
      "success!\n",
      "success!\n",
      "success!\n",
      "success!\n",
      "success!\n",
      "success!\n",
      "success!\n",
      "success!\n",
      "success!\n",
      "success!\n",
      "success!\n",
      "success!\n",
      "success!\n",
      "success!\n",
      "success!\n",
      "success!\n",
      "success!\n",
      "success!\n",
      "success!\n",
      "success!\n",
      "success!\n",
      "success!\n",
      "success!\n",
      "success!\n",
      "success!\n",
      "success!\n",
      "success!\n",
      "success!\n",
      "success!\n",
      "success!\n",
      "success!\n",
      "success!\n",
      "success!\n",
      "success!\n",
      "success!\n"
     ]
    }
   ],
   "source": [
    "# Third attempt at casting columns to float\n",
    "numcols_to_change2 = []\n",
    "for col in numcols_to_change:\n",
    "    try:\n",
    "        df_wr[col] = df_wr[col].astype(float)\n",
    "        print('success!')\n",
    "    except:\n",
    "        numcols_to_change2.append(col)\n",
    "        print(f'need to clean column: {col}')"
   ]
  },
  {
   "cell_type": "code",
   "execution_count": 15,
   "id": "86897d6e-c7bb-4f4c-963a-f45fa97620d3",
   "metadata": {},
   "outputs": [],
   "source": [
    "# Fill NaN's with 0\n",
    "df_wr.fillna(0, inplace=True)"
   ]
  },
  {
   "cell_type": "code",
   "execution_count": 16,
   "id": "4c64dad6-acfb-4076-b6dd-2658b91c2eca",
   "metadata": {},
   "outputs": [],
   "source": [
    "# Removing suffixes from player name to join df's correctly\n",
    "df_wr['Player'] = df_wr['Player'].map(lambda x: x.split()[0] + ' ' + x.split()[1] if x.split()[-1] in ['iii', 'ii', 'jr', 'jr.'] else x)"
   ]
  },
  {
   "cell_type": "code",
   "execution_count": 17,
   "id": "eb8b1b96-7c79-4721-ac11-d472cba32aa0",
   "metadata": {},
   "outputs": [],
   "source": [
    "# Removes periods in player names to join df's correctly\n",
    "df_wr['Player'] = df_wr['Player'].map(lambda x: x.replace('.', ''))"
   ]
  },
  {
   "cell_type": "code",
   "execution_count": 18,
   "id": "6fb204df-d75d-477a-b74e-b2e972e7b711",
   "metadata": {},
   "outputs": [
    {
     "data": {
      "text/plain": [
       "(625, 43)"
      ]
     },
     "execution_count": 18,
     "metadata": {},
     "output_type": "execute_result"
    }
   ],
   "source": [
    "df_wr.shape"
   ]
  },
  {
   "cell_type": "markdown",
   "id": "0ee04d3a-361f-4920-ac6c-384b09a167e4",
   "metadata": {},
   "source": [
    "#### Bring in Football Reference"
   ]
  },
  {
   "cell_type": "code",
   "execution_count": 19,
   "id": "6a2518c1-47d0-4f8b-9895-68bf5f427b32",
   "metadata": {},
   "outputs": [],
   "source": [
    "# re.sub(r'[^\\. a-zA-Z]',' ', name).rstrip()"
   ]
  },
  {
   "cell_type": "code",
   "execution_count": 20,
   "id": "45013e78-8768-4d60-8345-6a0511c0380b",
   "metadata": {},
   "outputs": [
    {
     "data": {
      "text/html": [
       "<div>\n",
       "<style scoped>\n",
       "    .dataframe tbody tr th:only-of-type {\n",
       "        vertical-align: middle;\n",
       "    }\n",
       "\n",
       "    .dataframe tbody tr th {\n",
       "        vertical-align: top;\n",
       "    }\n",
       "\n",
       "    .dataframe thead th {\n",
       "        text-align: right;\n",
       "    }\n",
       "</style>\n",
       "<table border=\"1\" class=\"dataframe\">\n",
       "  <thead>\n",
       "    <tr style=\"text-align: right;\">\n",
       "      <th></th>\n",
       "      <th>Player</th>\n",
       "      <th>Tm</th>\n",
       "      <th>Pos</th>\n",
       "      <th>G</th>\n",
       "      <th>GS</th>\n",
       "      <th>Tgt</th>\n",
       "      <th>Rec</th>\n",
       "      <th>Ctch%</th>\n",
       "      <th>Yds</th>\n",
       "      <th>Y/R</th>\n",
       "      <th>TD</th>\n",
       "      <th>1D</th>\n",
       "      <th>Lng</th>\n",
       "      <th>Y/Tgt</th>\n",
       "      <th>R/G</th>\n",
       "      <th>Y/G</th>\n",
       "      <th>Fmb</th>\n",
       "    </tr>\n",
       "  </thead>\n",
       "  <tbody>\n",
       "    <tr>\n",
       "      <th>0</th>\n",
       "      <td>Cooper Kupp</td>\n",
       "      <td>LAR</td>\n",
       "      <td>WR</td>\n",
       "      <td>17</td>\n",
       "      <td>17</td>\n",
       "      <td>191</td>\n",
       "      <td>145</td>\n",
       "      <td>75.9%</td>\n",
       "      <td>1947</td>\n",
       "      <td>13.4</td>\n",
       "      <td>16</td>\n",
       "      <td>89</td>\n",
       "      <td>59</td>\n",
       "      <td>10.2</td>\n",
       "      <td>8.5</td>\n",
       "      <td>114.5</td>\n",
       "      <td>0</td>\n",
       "    </tr>\n",
       "    <tr>\n",
       "      <th>1</th>\n",
       "      <td>Davante Adams</td>\n",
       "      <td>GNB</td>\n",
       "      <td>WR</td>\n",
       "      <td>16</td>\n",
       "      <td>16</td>\n",
       "      <td>169</td>\n",
       "      <td>123</td>\n",
       "      <td>72.8%</td>\n",
       "      <td>1553</td>\n",
       "      <td>12.6</td>\n",
       "      <td>11</td>\n",
       "      <td>84</td>\n",
       "      <td>59</td>\n",
       "      <td>9.2</td>\n",
       "      <td>7.7</td>\n",
       "      <td>97.1</td>\n",
       "      <td>0</td>\n",
       "    </tr>\n",
       "    <tr>\n",
       "      <th>2</th>\n",
       "      <td>Tyreek Hill</td>\n",
       "      <td>KAN</td>\n",
       "      <td>WR</td>\n",
       "      <td>17</td>\n",
       "      <td>16</td>\n",
       "      <td>159</td>\n",
       "      <td>111</td>\n",
       "      <td>69.8%</td>\n",
       "      <td>1239</td>\n",
       "      <td>11.2</td>\n",
       "      <td>9</td>\n",
       "      <td>75</td>\n",
       "      <td>75</td>\n",
       "      <td>7.8</td>\n",
       "      <td>6.5</td>\n",
       "      <td>72.9</td>\n",
       "      <td>2</td>\n",
       "    </tr>\n",
       "    <tr>\n",
       "      <th>3</th>\n",
       "      <td>Justin Jefferson</td>\n",
       "      <td>MIN</td>\n",
       "      <td>WR</td>\n",
       "      <td>17</td>\n",
       "      <td>17</td>\n",
       "      <td>167</td>\n",
       "      <td>108</td>\n",
       "      <td>64.7%</td>\n",
       "      <td>1616</td>\n",
       "      <td>15.0</td>\n",
       "      <td>10</td>\n",
       "      <td>75</td>\n",
       "      <td>56</td>\n",
       "      <td>9.7</td>\n",
       "      <td>6.4</td>\n",
       "      <td>95.1</td>\n",
       "      <td>1</td>\n",
       "    </tr>\n",
       "    <tr>\n",
       "      <th>4</th>\n",
       "      <td>Mark Andrews</td>\n",
       "      <td>BAL</td>\n",
       "      <td>te</td>\n",
       "      <td>17</td>\n",
       "      <td>9</td>\n",
       "      <td>153</td>\n",
       "      <td>107</td>\n",
       "      <td>69.9%</td>\n",
       "      <td>1361</td>\n",
       "      <td>12.7</td>\n",
       "      <td>9</td>\n",
       "      <td>75</td>\n",
       "      <td>43</td>\n",
       "      <td>8.9</td>\n",
       "      <td>6.3</td>\n",
       "      <td>80.1</td>\n",
       "      <td>1</td>\n",
       "    </tr>\n",
       "  </tbody>\n",
       "</table>\n",
       "</div>"
      ],
      "text/plain": [
       "             Player   Tm Pos   G  GS  Tgt  Rec  Ctch%   Yds   Y/R  TD  1D Lng  \\\n",
       "0       Cooper Kupp  LAR  WR  17  17  191  145  75.9%  1947  13.4  16  89  59   \n",
       "1     Davante Adams  GNB  WR  16  16  169  123  72.8%  1553  12.6  11  84  59   \n",
       "2       Tyreek Hill  KAN  WR  17  16  159  111  69.8%  1239  11.2   9  75  75   \n",
       "3  Justin Jefferson  MIN  WR  17  17  167  108  64.7%  1616  15.0  10  75  56   \n",
       "4      Mark Andrews  BAL  te  17   9  153  107  69.9%  1361  12.7   9  75  43   \n",
       "\n",
       "  Y/Tgt  R/G    Y/G Fmb  \n",
       "0  10.2  8.5  114.5   0  \n",
       "1   9.2  7.7   97.1   0  \n",
       "2   7.8  6.5   72.9   2  \n",
       "3   9.7  6.4   95.1   1  \n",
       "4   8.9  6.3   80.1   1  "
      ]
     },
     "execution_count": 20,
     "metadata": {},
     "output_type": "execute_result"
    }
   ],
   "source": [
    "#bring in football reference data\n",
    "fr_wr = pd.read_html('./nfl_data/receiving/2021_receiving_stats.xls')\n",
    "fr_wr = pd.DataFrame(fr_wr[0]) # Saves df var to dataframe\n",
    "fr_wr.fillna(0, inplace=True)\n",
    "fr_wr['Player'] = fr_wr['Player'].map(lambda x: x.rstrip('_+!*@#$?^'))\n",
    "fr_wr.drop(columns = ['Rk', 'Age'], inplace = True)\n",
    "fr_wr.head()"
   ]
  },
  {
   "cell_type": "code",
   "execution_count": 21,
   "id": "2043b1d3-f0e8-4dbf-8b30-3b78be0779c1",
   "metadata": {},
   "outputs": [],
   "source": [
    "# Remove % from Ctch% column\n",
    "remove_punctuation(fr_wr['Ctch%'], '%')"
   ]
  },
  {
   "cell_type": "code",
   "execution_count": 22,
   "id": "d9f2d4dc-4426-40db-adf8-eb9a810eda0a",
   "metadata": {},
   "outputs": [
    {
     "data": {
      "text/html": [
       "<div>\n",
       "<style scoped>\n",
       "    .dataframe tbody tr th:only-of-type {\n",
       "        vertical-align: middle;\n",
       "    }\n",
       "\n",
       "    .dataframe tbody tr th {\n",
       "        vertical-align: top;\n",
       "    }\n",
       "\n",
       "    .dataframe thead th {\n",
       "        text-align: right;\n",
       "    }\n",
       "</style>\n",
       "<table border=\"1\" class=\"dataframe\">\n",
       "  <thead>\n",
       "    <tr style=\"text-align: right;\">\n",
       "      <th></th>\n",
       "      <th>Player</th>\n",
       "      <th>Tm</th>\n",
       "      <th>Pos</th>\n",
       "      <th>G</th>\n",
       "      <th>GS</th>\n",
       "      <th>Tgt</th>\n",
       "      <th>Rec</th>\n",
       "      <th>Ctch%</th>\n",
       "      <th>Yds</th>\n",
       "      <th>Y/R</th>\n",
       "      <th>TD</th>\n",
       "      <th>1D</th>\n",
       "      <th>Lng</th>\n",
       "      <th>Y/Tgt</th>\n",
       "      <th>R/G</th>\n",
       "      <th>Y/G</th>\n",
       "      <th>Fmb</th>\n",
       "    </tr>\n",
       "  </thead>\n",
       "  <tbody>\n",
       "    <tr>\n",
       "      <th>0</th>\n",
       "      <td>Cooper Kupp</td>\n",
       "      <td>LAR</td>\n",
       "      <td>WR</td>\n",
       "      <td>17</td>\n",
       "      <td>17</td>\n",
       "      <td>191</td>\n",
       "      <td>145</td>\n",
       "      <td>75.9</td>\n",
       "      <td>1947</td>\n",
       "      <td>13.4</td>\n",
       "      <td>16</td>\n",
       "      <td>89</td>\n",
       "      <td>59</td>\n",
       "      <td>10.2</td>\n",
       "      <td>8.5</td>\n",
       "      <td>114.5</td>\n",
       "      <td>0</td>\n",
       "    </tr>\n",
       "    <tr>\n",
       "      <th>1</th>\n",
       "      <td>Davante Adams</td>\n",
       "      <td>GNB</td>\n",
       "      <td>WR</td>\n",
       "      <td>16</td>\n",
       "      <td>16</td>\n",
       "      <td>169</td>\n",
       "      <td>123</td>\n",
       "      <td>72.8</td>\n",
       "      <td>1553</td>\n",
       "      <td>12.6</td>\n",
       "      <td>11</td>\n",
       "      <td>84</td>\n",
       "      <td>59</td>\n",
       "      <td>9.2</td>\n",
       "      <td>7.7</td>\n",
       "      <td>97.1</td>\n",
       "      <td>0</td>\n",
       "    </tr>\n",
       "    <tr>\n",
       "      <th>2</th>\n",
       "      <td>Tyreek Hill</td>\n",
       "      <td>KAN</td>\n",
       "      <td>WR</td>\n",
       "      <td>17</td>\n",
       "      <td>16</td>\n",
       "      <td>159</td>\n",
       "      <td>111</td>\n",
       "      <td>69.8</td>\n",
       "      <td>1239</td>\n",
       "      <td>11.2</td>\n",
       "      <td>9</td>\n",
       "      <td>75</td>\n",
       "      <td>75</td>\n",
       "      <td>7.8</td>\n",
       "      <td>6.5</td>\n",
       "      <td>72.9</td>\n",
       "      <td>2</td>\n",
       "    </tr>\n",
       "    <tr>\n",
       "      <th>3</th>\n",
       "      <td>Justin Jefferson</td>\n",
       "      <td>MIN</td>\n",
       "      <td>WR</td>\n",
       "      <td>17</td>\n",
       "      <td>17</td>\n",
       "      <td>167</td>\n",
       "      <td>108</td>\n",
       "      <td>64.7</td>\n",
       "      <td>1616</td>\n",
       "      <td>15.0</td>\n",
       "      <td>10</td>\n",
       "      <td>75</td>\n",
       "      <td>56</td>\n",
       "      <td>9.7</td>\n",
       "      <td>6.4</td>\n",
       "      <td>95.1</td>\n",
       "      <td>1</td>\n",
       "    </tr>\n",
       "    <tr>\n",
       "      <th>4</th>\n",
       "      <td>Mark Andrews</td>\n",
       "      <td>BAL</td>\n",
       "      <td>te</td>\n",
       "      <td>17</td>\n",
       "      <td>9</td>\n",
       "      <td>153</td>\n",
       "      <td>107</td>\n",
       "      <td>69.9</td>\n",
       "      <td>1361</td>\n",
       "      <td>12.7</td>\n",
       "      <td>9</td>\n",
       "      <td>75</td>\n",
       "      <td>43</td>\n",
       "      <td>8.9</td>\n",
       "      <td>6.3</td>\n",
       "      <td>80.1</td>\n",
       "      <td>1</td>\n",
       "    </tr>\n",
       "  </tbody>\n",
       "</table>\n",
       "</div>"
      ],
      "text/plain": [
       "             Player   Tm Pos   G  GS  Tgt  Rec Ctch%   Yds   Y/R  TD  1D Lng  \\\n",
       "0       Cooper Kupp  LAR  WR  17  17  191  145  75.9  1947  13.4  16  89  59   \n",
       "1     Davante Adams  GNB  WR  16  16  169  123  72.8  1553  12.6  11  84  59   \n",
       "2       Tyreek Hill  KAN  WR  17  16  159  111  69.8  1239  11.2   9  75  75   \n",
       "3  Justin Jefferson  MIN  WR  17  17  167  108  64.7  1616  15.0  10  75  56   \n",
       "4      Mark Andrews  BAL  te  17   9  153  107  69.9  1361  12.7   9  75  43   \n",
       "\n",
       "  Y/Tgt  R/G    Y/G Fmb  \n",
       "0  10.2  8.5  114.5   0  \n",
       "1   9.2  7.7   97.1   0  \n",
       "2   7.8  6.5   72.9   2  \n",
       "3   9.7  6.4   95.1   1  \n",
       "4   8.9  6.3   80.1   1  "
      ]
     },
     "execution_count": 22,
     "metadata": {},
     "output_type": "execute_result"
    }
   ],
   "source": [
    "fr_wr.head()"
   ]
  },
  {
   "cell_type": "code",
   "execution_count": 23,
   "id": "1ef53dc7-2971-4f48-b993-588e8a72d3bc",
   "metadata": {},
   "outputs": [
    {
     "data": {
      "text/plain": [
       "Player    object\n",
       "Tm        object\n",
       "Pos       object\n",
       "G         object\n",
       "GS        object\n",
       "Tgt       object\n",
       "Rec       object\n",
       "Ctch%     object\n",
       "Yds       object\n",
       "Y/R       object\n",
       "TD        object\n",
       "1D        object\n",
       "Lng       object\n",
       "Y/Tgt     object\n",
       "R/G       object\n",
       "Y/G       object\n",
       "Fmb       object\n",
       "dtype: object"
      ]
     },
     "execution_count": 23,
     "metadata": {},
     "output_type": "execute_result"
    }
   ],
   "source": [
    "fr_wr.dtypes"
   ]
  },
  {
   "cell_type": "code",
   "execution_count": 24,
   "id": "aa0ee781-f913-4bc5-871b-4e0de0273335",
   "metadata": {},
   "outputs": [],
   "source": [
    "def drop_rows(df):\n",
    "    for header in df.columns:\n",
    "        index_list = df.loc[(df[header] == header)].index\n",
    "        df.drop(labels=index_list, axis=0, inplace = True)\n",
    "        return\n",
    "drop_rows(fr_wr)\n",
    "\n",
    "float_cols = fr_wr.columns[3:]\n",
    "\n",
    "for float_col in float_cols:\n",
    "    fr_wr[f'{float_col}'] = fr_wr[f'{float_col}'].astype(float)"
   ]
  },
  {
   "cell_type": "code",
   "execution_count": 25,
   "id": "16d8cd6f-e542-4a77-ae09-f66ea7749a2a",
   "metadata": {},
   "outputs": [
    {
     "data": {
      "text/plain": [
       "Player     object\n",
       "Tm         object\n",
       "Pos        object\n",
       "G         float64\n",
       "GS        float64\n",
       "Tgt       float64\n",
       "Rec       float64\n",
       "Ctch%     float64\n",
       "Yds       float64\n",
       "Y/R       float64\n",
       "TD        float64\n",
       "1D        float64\n",
       "Lng       float64\n",
       "Y/Tgt     float64\n",
       "R/G       float64\n",
       "Y/G       float64\n",
       "Fmb       float64\n",
       "dtype: object"
      ]
     },
     "execution_count": 25,
     "metadata": {},
     "output_type": "execute_result"
    }
   ],
   "source": [
    "fr_wr.dtypes"
   ]
  },
  {
   "cell_type": "code",
   "execution_count": 26,
   "id": "26f9d666-4279-4349-8732-6cbe1e0ea53b",
   "metadata": {},
   "outputs": [],
   "source": [
    "# Removing suffixes from player name to join df's correctly\n",
    "fr_wr['Player'] = fr_wr['Player'].map(lambda x: x.split()[0] + ' ' + x.split()[1] if x.split()[-1] in ['III', 'II', 'Jr.'] else x)"
   ]
  },
  {
   "cell_type": "code",
   "execution_count": 27,
   "id": "e97d5a0d-282a-44be-8b20-4e3b4438820e",
   "metadata": {},
   "outputs": [],
   "source": [
    "# Removes periods in player names to join df's correctly\n",
    "fr_wr['Player'] = fr_wr['Player'].map(lambda x: x.replace('.', ''))"
   ]
  },
  {
   "cell_type": "code",
   "execution_count": 28,
   "id": "8b9eeb3a-0cf1-4c3c-90ff-e1f53b3c8cd1",
   "metadata": {
    "tags": []
   },
   "outputs": [
    {
     "data": {
      "text/html": [
       "<div>\n",
       "<style scoped>\n",
       "    .dataframe tbody tr th:only-of-type {\n",
       "        vertical-align: middle;\n",
       "    }\n",
       "\n",
       "    .dataframe tbody tr th {\n",
       "        vertical-align: top;\n",
       "    }\n",
       "\n",
       "    .dataframe thead th {\n",
       "        text-align: right;\n",
       "    }\n",
       "</style>\n",
       "<table border=\"1\" class=\"dataframe\">\n",
       "  <thead>\n",
       "    <tr style=\"text-align: right;\">\n",
       "      <th></th>\n",
       "      <th>Player</th>\n",
       "      <th>Tm</th>\n",
       "      <th>Pos</th>\n",
       "      <th>G</th>\n",
       "      <th>GS</th>\n",
       "      <th>Tgt</th>\n",
       "      <th>Rec</th>\n",
       "      <th>Ctch%</th>\n",
       "      <th>Yds</th>\n",
       "      <th>Y/R</th>\n",
       "      <th>TD</th>\n",
       "      <th>1D</th>\n",
       "      <th>Lng</th>\n",
       "      <th>Y/Tgt</th>\n",
       "      <th>R/G</th>\n",
       "      <th>Y/G</th>\n",
       "      <th>Fmb</th>\n",
       "    </tr>\n",
       "  </thead>\n",
       "  <tbody>\n",
       "    <tr>\n",
       "      <th>0</th>\n",
       "      <td>cooper kupp</td>\n",
       "      <td>LAR</td>\n",
       "      <td>WR</td>\n",
       "      <td>17.0</td>\n",
       "      <td>17.0</td>\n",
       "      <td>191.0</td>\n",
       "      <td>145.0</td>\n",
       "      <td>75.9</td>\n",
       "      <td>1947.0</td>\n",
       "      <td>13.4</td>\n",
       "      <td>16.0</td>\n",
       "      <td>89.0</td>\n",
       "      <td>59.0</td>\n",
       "      <td>10.2</td>\n",
       "      <td>8.5</td>\n",
       "      <td>114.5</td>\n",
       "      <td>0.0</td>\n",
       "    </tr>\n",
       "    <tr>\n",
       "      <th>1</th>\n",
       "      <td>davante adams</td>\n",
       "      <td>GNB</td>\n",
       "      <td>WR</td>\n",
       "      <td>16.0</td>\n",
       "      <td>16.0</td>\n",
       "      <td>169.0</td>\n",
       "      <td>123.0</td>\n",
       "      <td>72.8</td>\n",
       "      <td>1553.0</td>\n",
       "      <td>12.6</td>\n",
       "      <td>11.0</td>\n",
       "      <td>84.0</td>\n",
       "      <td>59.0</td>\n",
       "      <td>9.2</td>\n",
       "      <td>7.7</td>\n",
       "      <td>97.1</td>\n",
       "      <td>0.0</td>\n",
       "    </tr>\n",
       "    <tr>\n",
       "      <th>2</th>\n",
       "      <td>tyreek hill</td>\n",
       "      <td>KAN</td>\n",
       "      <td>WR</td>\n",
       "      <td>17.0</td>\n",
       "      <td>16.0</td>\n",
       "      <td>159.0</td>\n",
       "      <td>111.0</td>\n",
       "      <td>69.8</td>\n",
       "      <td>1239.0</td>\n",
       "      <td>11.2</td>\n",
       "      <td>9.0</td>\n",
       "      <td>75.0</td>\n",
       "      <td>75.0</td>\n",
       "      <td>7.8</td>\n",
       "      <td>6.5</td>\n",
       "      <td>72.9</td>\n",
       "      <td>2.0</td>\n",
       "    </tr>\n",
       "    <tr>\n",
       "      <th>3</th>\n",
       "      <td>justin jefferson</td>\n",
       "      <td>MIN</td>\n",
       "      <td>WR</td>\n",
       "      <td>17.0</td>\n",
       "      <td>17.0</td>\n",
       "      <td>167.0</td>\n",
       "      <td>108.0</td>\n",
       "      <td>64.7</td>\n",
       "      <td>1616.0</td>\n",
       "      <td>15.0</td>\n",
       "      <td>10.0</td>\n",
       "      <td>75.0</td>\n",
       "      <td>56.0</td>\n",
       "      <td>9.7</td>\n",
       "      <td>6.4</td>\n",
       "      <td>95.1</td>\n",
       "      <td>1.0</td>\n",
       "    </tr>\n",
       "    <tr>\n",
       "      <th>4</th>\n",
       "      <td>mark andrews</td>\n",
       "      <td>BAL</td>\n",
       "      <td>te</td>\n",
       "      <td>17.0</td>\n",
       "      <td>9.0</td>\n",
       "      <td>153.0</td>\n",
       "      <td>107.0</td>\n",
       "      <td>69.9</td>\n",
       "      <td>1361.0</td>\n",
       "      <td>12.7</td>\n",
       "      <td>9.0</td>\n",
       "      <td>75.0</td>\n",
       "      <td>43.0</td>\n",
       "      <td>8.9</td>\n",
       "      <td>6.3</td>\n",
       "      <td>80.1</td>\n",
       "      <td>1.0</td>\n",
       "    </tr>\n",
       "  </tbody>\n",
       "</table>\n",
       "</div>"
      ],
      "text/plain": [
       "             Player   Tm Pos     G    GS    Tgt    Rec  Ctch%     Yds   Y/R  \\\n",
       "0       cooper kupp  LAR  WR  17.0  17.0  191.0  145.0   75.9  1947.0  13.4   \n",
       "1     davante adams  GNB  WR  16.0  16.0  169.0  123.0   72.8  1553.0  12.6   \n",
       "2       tyreek hill  KAN  WR  17.0  16.0  159.0  111.0   69.8  1239.0  11.2   \n",
       "3  justin jefferson  MIN  WR  17.0  17.0  167.0  108.0   64.7  1616.0  15.0   \n",
       "4      mark andrews  BAL  te  17.0   9.0  153.0  107.0   69.9  1361.0  12.7   \n",
       "\n",
       "     TD    1D   Lng  Y/Tgt  R/G    Y/G  Fmb  \n",
       "0  16.0  89.0  59.0   10.2  8.5  114.5  0.0  \n",
       "1  11.0  84.0  59.0    9.2  7.7   97.1  0.0  \n",
       "2   9.0  75.0  75.0    7.8  6.5   72.9  2.0  \n",
       "3  10.0  75.0  56.0    9.7  6.4   95.1  1.0  \n",
       "4   9.0  75.0  43.0    8.9  6.3   80.1  1.0  "
      ]
     },
     "execution_count": 28,
     "metadata": {},
     "output_type": "execute_result"
    }
   ],
   "source": [
    "# Cast Players to lowercase to ensure joining df's is correct\n",
    "fr_wr['Player'] = fr_wr['Player'].str.lower()\n",
    "fr_wr.head()"
   ]
  },
  {
   "cell_type": "markdown",
   "id": "92f6e321-60f2-4d68-9e02-0e7ae9b16afd",
   "metadata": {},
   "source": [
    "#### Merging both dataframes into All"
   ]
  },
  {
   "cell_type": "code",
   "execution_count": 29,
   "id": "3d6d619b-6078-4ab8-950d-0f3425ef5313",
   "metadata": {},
   "outputs": [
    {
     "data": {
      "text/plain": [
       "(797, 59)"
      ]
     },
     "execution_count": 29,
     "metadata": {},
     "output_type": "execute_result"
    }
   ],
   "source": [
    "df_wr_all = pd.merge(fr_wr, df_wr, on = ['Player'], how = 'outer')\n",
    "df_wr_all.shape"
   ]
  },
  {
   "cell_type": "code",
   "execution_count": 30,
   "id": "f02620f9-470d-44a8-ba34-de73cec2eab7",
   "metadata": {},
   "outputs": [
    {
     "data": {
      "text/plain": [
       "(797, 58)"
      ]
     },
     "execution_count": 30,
     "metadata": {},
     "output_type": "execute_result"
    }
   ],
   "source": [
    "x = {i : f'{i}_Tot' for i in df_wr_all.columns if len(i) < 18 and i not in ['Player', 'Tm', 'Pos_x', 'Pos_y', 'Team']}\n",
    "df_wr_all = df_wr_all.rename(columns = x)\n",
    "df_wr_all.rename(columns={'Pos_y': 'Pos'}, inplace=True)\n",
    "df_wr_all.drop(columns='Pos_x', inplace=True) # Drop extra position column\n",
    "\n",
    "x = {i : f'{i}_Avg' for i in df_wr_all.columns if len(i) >= 18}\n",
    "df_wr_all = df_wr_all.rename(columns = x)\n",
    "df_wr_all.rename(columns={'Tm': 'Tm_Abr'}, inplace=True)\n",
    "df_wr_all['Player'] = df_wr_all['Player'].str.title() # Convert players back to titlecase\n",
    "df_wr_all.shape"
   ]
  },
  {
   "cell_type": "code",
   "execution_count": 31,
   "id": "18ebf8cf-ceec-4cfb-adcd-23dcdc866e15",
   "metadata": {},
   "outputs": [],
   "source": [
    "df_wr_all.to_csv('./clean_data/receiving.csv', index=0)"
   ]
  }
 ],
 "metadata": {
  "kernelspec": {
   "display_name": "Python 3 (ipykernel)",
   "language": "python",
   "name": "python3"
  },
  "language_info": {
   "codemirror_mode": {
    "name": "ipython",
    "version": 3
   },
   "file_extension": ".py",
   "mimetype": "text/x-python",
   "name": "python",
   "nbconvert_exporter": "python",
   "pygments_lexer": "ipython3",
   "version": "3.9.7"
  }
 },
 "nbformat": 4,
 "nbformat_minor": 5
}
