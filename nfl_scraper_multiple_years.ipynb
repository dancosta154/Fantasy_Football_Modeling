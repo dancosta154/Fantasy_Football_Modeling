{
 "cells": [
  {
   "cell_type": "markdown",
   "id": "a000d3c4-6f68-4eaf-98ee-f2a008ee62dc",
   "metadata": {},
   "source": [
    "## This isn't a functional page - a handful of failed attempts as of 2.25"
   ]
  },
  {
   "cell_type": "code",
   "execution_count": 1,
   "id": "214271af-29a1-49a2-b2c1-84da30452d99",
   "metadata": {},
   "outputs": [],
   "source": [
    "import pandas as pd\n",
    "import requests\n",
    "from bs4 import BeautifulSoup\n",
    "import time"
   ]
  },
  {
   "cell_type": "code",
   "execution_count": 2,
   "id": "7cba8781-245f-4be3-b5fc-946acd71ffb3",
   "metadata": {},
   "outputs": [
    {
     "data": {
      "text/plain": [
       "(200, '<!DOCTYPE html><html lang=\"en-US\" dir=\"ltr\"><head>')"
      ]
     },
     "execution_count": 2,
     "metadata": {},
     "output_type": "execute_result"
    }
   ],
   "source": [
    "base_url = 'https://www.nfl.com/stats/player-stats/category/passing/2020/REG/all/passingyards/DESC'\n",
    "res = requests.get(base_url)\n",
    "\n",
    "res.status_code, res.text[:50]"
   ]
  },
  {
   "cell_type": "code",
   "execution_count": 3,
   "id": "0f5e7e71-7fe5-49c8-ae8c-285ddda17b09",
   "metadata": {},
   "outputs": [
    {
     "data": {
      "text/plain": [
       "bs4.element.Tag"
      ]
     },
     "execution_count": 3,
     "metadata": {},
     "output_type": "execute_result"
    }
   ],
   "source": [
    "soup = BeautifulSoup(res.text, 'lxml')\n",
    "\n",
    "table = soup.find('table', {'class', 'd3-o-table'})\n",
    "type(table)"
   ]
  },
  {
   "cell_type": "code",
   "execution_count": 4,
   "id": "eed36d5b-a68f-4029-9bfa-a58fbd2b6030",
   "metadata": {
    "tags": []
   },
   "outputs": [],
   "source": [
    "# base_url = 'https://www.nfl.com/stats/player-stats/category/passing/'\n",
    "# qbs = []\n",
    "# years = [2020, 2021, 2022]\n",
    "# ending = '/REG/all/passingyards/DESC'\n",
    "\n",
    "# for row in table.find_all('tr')[1:]:\n",
    "#     params = {\n",
    "#         'years': years,\n",
    "#         'ending': ending\n",
    "#     }\n",
    "#     res = requests.get(base_url, params=params)\n",
    "#     print(res)\n",
    "#     qb = {}\n",
    "#     qb['name'] = row.find('a').text.strip()\n",
    "#     qb['pass_yds'] = row.find('td', {'class': 'selected'}).text.strip()\n",
    "#     qb['yds/att'] = row.find_all('td')[2].text.strip()\n",
    "#     qb['att'] = row.find_all('td')[3].text.strip()\n",
    "#     qb['cmp'] = row.find_all('td')[4].text.strip()\n",
    "#     qb['cmp_perc'] = row.find_all('td')[5].text.strip()\n",
    "#     qb['td'] = row.find_all('td')[6].text.strip()\n",
    "#     qb['int'] = row.find_all('td')[7].text.strip()\n",
    "#     qb['rate'] = row.find_all('td')[8].text.strip()\n",
    "#     qb['1st'] = row.find_all('td')[9].text.strip()\n",
    "#     qb['1st_perc'] = row.find_all('td')[10].text.strip()\n",
    "#     qb['20_plus'] = row.find_all('td')[11].text.strip()\n",
    "#     qb['40_plus'] = row.find_all('td')[12].text.strip()\n",
    "#     qb['long'] = row.find_all('td')[13].text.strip()\n",
    "#     qb['sacked'] = row.find_all('td')[14].text.strip()\n",
    "#     qb['sack_yds'] = row.find_all('td')[15].text.strip()\n",
    "#     qbs.append(qb)\n",
    "    \n",
    "# time.sleep(3)\n",
    "\n",
    "# qb = pd.DataFrame.from_dict(qbs, orient='columns')"
   ]
  },
  {
   "cell_type": "markdown",
   "id": "44bdbf18-f4d4-4d6a-9621-21d73a91efd4",
   "metadata": {},
   "source": [
    "### The next section will be saved for when I want to scrape multiple pages in a nested For Loop"
   ]
  },
  {
   "cell_type": "code",
   "execution_count": 5,
   "id": "48772dde-7d5e-4863-bef3-7846f2459dba",
   "metadata": {},
   "outputs": [],
   "source": [
    "# url = 'https://www.nfl.com/stats/qb-stats/'\n",
    "# res = requests.get(url)\n",
    "\n",
    "# res.status_code\n",
    "\n",
    "# res.text[:50]"
   ]
  },
  {
   "cell_type": "code",
   "execution_count": 6,
   "id": "d1843d95-fa6d-4bb6-8e1d-967b39805e98",
   "metadata": {},
   "outputs": [],
   "source": [
    "# switch_pages = soup.find('ul', {'class': 'd3-o-tabs'})\n",
    "# type(switch_pages)"
   ]
  },
  {
   "cell_type": "code",
   "execution_count": 7,
   "id": "6ac6cda5-bb2e-46a0-afb4-761eca837b06",
   "metadata": {
    "tags": []
   },
   "outputs": [],
   "source": [
    "# switch_pages.find_all('li')"
   ]
  },
  {
   "cell_type": "code",
   "execution_count": 8,
   "id": "9d00bd62-0d03-44d6-86fb-f334461f886a",
   "metadata": {},
   "outputs": [],
   "source": [
    "# pages = []\n",
    "# for li in switch_pages.find_all('li'):\n",
    "#     page = {}\n",
    "#     page['name'] = li.text.strip()\n",
    "#     page['href'] = li.find('a').attrs['href']\n",
    "#     pages.append(page)\n",
    "# pages;    "
   ]
  },
  {
   "cell_type": "code",
   "execution_count": 9,
   "id": "57222fe2-0554-49f7-88a8-9bf563f06ce1",
   "metadata": {
    "tags": []
   },
   "outputs": [],
   "source": [
    "# url + '?' + page['href']"
   ]
  },
  {
   "cell_type": "code",
   "execution_count": 10,
   "id": "e7eff25a-69cb-40fe-b204-563c31b14e15",
   "metadata": {},
   "outputs": [],
   "source": [
    "# base_url = 'https://www.nfl.com/stats/player-stats/category/passing/'\n",
    "# qbs = []\n",
    "# years = [2020, 2021, 2022]\n",
    "# ending = '/REG/all/passingyards/DESC'\n",
    "\n",
    "# for row in table.find_all('tr')[1:]:\n",
    "#     params = {\n",
    "#         'years': years,\n",
    "#         'ending': ending\n",
    "#     }\n",
    "#     res = requests.get(base_url, params=params)\n",
    "#     print(res)\n",
    "#     qb = {}\n",
    "#     qb['name'] = row.find('a').text.strip()\n",
    "#     qb['pass_yds'] = row.find('td', {'class': 'selected'}).text.strip()\n",
    "#     qb['yds/att'] = row.find_all('td')[2].text.strip()\n",
    "#     qb['att'] = row.find_all('td')[3].text.strip()\n",
    "#     qb['cmp'] = row.find_all('td')[4].text.strip()\n",
    "#     qb['cmp_perc'] = row.find_all('td')[5].text.strip()\n",
    "#     qb['td'] = row.find_all('td')[6].text.strip()\n",
    "#     qb['int'] = row.find_all('td')[7].text.strip()\n",
    "#     qb['rate'] = row.find_all('td')[8].text.strip()\n",
    "#     qb['1st'] = row.find_all('td')[9].text.strip()\n",
    "#     qb['1st_perc'] = row.find_all('td')[10].text.strip()\n",
    "#     qb['20_plus'] = row.find_all('td')[11].text.strip()\n",
    "#     qb['40_plus'] = row.find_all('td')[12].text.strip()\n",
    "#     qb['long'] = row.find_all('td')[13].text.strip()\n",
    "#     qb['sacked'] = row.find_all('td')[14].text.strip()\n",
    "#     qb['sack_yds'] = row.find_all('td')[15].text.strip()\n",
    "#     qbs.append(qb)\n",
    "    \n",
    "# time.sleep(3)\n",
    "\n",
    "# qb = pd.DataFrame.from_dict(qbs, orient='columns')"
   ]
  },
  {
   "cell_type": "code",
   "execution_count": 11,
   "id": "ee458c08-ab37-4830-b1be-b2c63d1798a9",
   "metadata": {},
   "outputs": [
    {
     "data": {
      "text/plain": [
       "[{'name': 'Pass Yds',\n",
       "  'href': '/stats/player-stats/category/passing/2020/REG/all/passingyards/asc'},\n",
       " {'name': 'Yds/Att',\n",
       "  'href': '/stats/player-stats/category/passing/2020/REG/all/passingaverageyards/DESC'},\n",
       " {'name': 'Att',\n",
       "  'href': '/stats/player-stats/category/passing/2020/REG/all/passingattempts/DESC'},\n",
       " {'name': 'Cmp',\n",
       "  'href': '/stats/player-stats/category/passing/2020/REG/all/passingcompletions/DESC'},\n",
       " {'name': 'Cmp %',\n",
       "  'href': '/stats/player-stats/category/passing/2020/REG/all/passingcompletionpercentage/DESC'},\n",
       " {'name': 'TD',\n",
       "  'href': '/stats/player-stats/category/passing/2020/REG/all/passingtouchdowns/DESC'},\n",
       " {'name': 'INT',\n",
       "  'href': '/stats/player-stats/category/passing/2020/REG/all/passinginterceptions/DESC'},\n",
       " {'name': 'Rate',\n",
       "  'href': '/stats/player-stats/category/passing/2020/REG/all/passingpasserrating/DESC'},\n",
       " {'name': '1st',\n",
       "  'href': '/stats/player-stats/category/passing/2020/REG/all/passingfirstdowns/DESC'},\n",
       " {'name': '1st%',\n",
       "  'href': '/stats/player-stats/category/passing/2020/REG/all/passingfirstdownpercentage/DESC'},\n",
       " {'name': '20+',\n",
       "  'href': '/stats/player-stats/category/passing/2020/REG/all/passing20plusyardseach/DESC'},\n",
       " {'name': '40+',\n",
       "  'href': '/stats/player-stats/category/passing/2020/REG/all/passing40plusyardseach/DESC'},\n",
       " {'name': 'Lng',\n",
       "  'href': '/stats/player-stats/category/passing/2020/REG/all/passinglong/DESC'},\n",
       " {'name': 'Sck',\n",
       "  'href': '/stats/player-stats/category/passing/2020/REG/all/passingsacked/DESC'},\n",
       " {'name': 'SckY',\n",
       "  'href': '/stats/player-stats/category/passing/2020/REG/all/passingsackedyardslost/DESC'}]"
      ]
     },
     "execution_count": 11,
     "metadata": {},
     "output_type": "execute_result"
    }
   ],
   "source": [
    "pages = []\n",
    "for row in table.find_all('th')[1:]:\n",
    "    page = {}\n",
    "    page['name'] = row.find('a').text\n",
    "    page['href'] = row.find('a').attrs['href']\n",
    "    pages.append(page)\n",
    "pages"
   ]
  },
  {
   "cell_type": "code",
   "execution_count": 12,
   "id": "da87af1a-957f-47ff-b9f0-137658d03042",
   "metadata": {},
   "outputs": [
    {
     "name": "stdout",
     "output_type": "stream",
     "text": [
      "{'name': 'Pass Yds', 'href': '/stats/player-stats/category/passing/2020/REG/all/passingyards/asc'}\n",
      "<Response [404]>\n",
      "{'name': 'Yds/Att', 'href': '/stats/player-stats/category/passing/2020/REG/all/passingaverageyards/DESC'}\n",
      "<Response [404]>\n",
      "{'name': 'Att', 'href': '/stats/player-stats/category/passing/2020/REG/all/passingattempts/DESC'}\n",
      "<Response [404]>\n",
      "{'name': 'Cmp', 'href': '/stats/player-stats/category/passing/2020/REG/all/passingcompletions/DESC'}\n",
      "<Response [404]>\n",
      "{'name': 'Cmp %', 'href': '/stats/player-stats/category/passing/2020/REG/all/passingcompletionpercentage/DESC'}\n",
      "<Response [404]>\n",
      "{'name': 'TD', 'href': '/stats/player-stats/category/passing/2020/REG/all/passingtouchdowns/DESC'}\n",
      "<Response [404]>\n",
      "{'name': 'INT', 'href': '/stats/player-stats/category/passing/2020/REG/all/passinginterceptions/DESC'}\n",
      "<Response [404]>\n",
      "{'name': 'Rate', 'href': '/stats/player-stats/category/passing/2020/REG/all/passingpasserrating/DESC'}\n",
      "<Response [404]>\n",
      "{'name': '1st', 'href': '/stats/player-stats/category/passing/2020/REG/all/passingfirstdowns/DESC'}\n",
      "<Response [404]>\n",
      "{'name': '1st%', 'href': '/stats/player-stats/category/passing/2020/REG/all/passingfirstdownpercentage/DESC'}\n",
      "<Response [404]>\n",
      "{'name': '20+', 'href': '/stats/player-stats/category/passing/2020/REG/all/passing20plusyardseach/DESC'}\n",
      "<Response [404]>\n",
      "{'name': '40+', 'href': '/stats/player-stats/category/passing/2020/REG/all/passing40plusyardseach/DESC'}\n",
      "<Response [404]>\n",
      "{'name': 'Lng', 'href': '/stats/player-stats/category/passing/2020/REG/all/passinglong/DESC'}\n",
      "<Response [404]>\n",
      "{'name': 'Sck', 'href': '/stats/player-stats/category/passing/2020/REG/all/passingsacked/DESC'}\n",
      "<Response [404]>\n",
      "{'name': 'SckY', 'href': '/stats/player-stats/category/passing/2020/REG/all/passingsackedyardslost/DESC'}\n",
      "<Response [404]>\n"
     ]
    },
    {
     "data": {
      "text/plain": [
       "[]"
      ]
     },
     "execution_count": 12,
     "metadata": {},
     "output_type": "execute_result"
    }
   ],
   "source": [
    "base_url = 'https://www.nfl.com/stats/player-stats/category/passing/'\n",
    "ending = '/REG/all/passingyards/DESC'\n",
    "stats = []\n",
    "\n",
    "for page in pages:\n",
    "    print(page)\n",
    "    years = [2020, 2021, 2022]\n",
    "    params = {\n",
    "            'years': years,\n",
    "            'ending': ending\n",
    "            \n",
    "        }\n",
    "    new_res = requests.get(base_url, params=params)\n",
    "    new_soup = BeautifulSoup(new_res.text, 'lxml')\n",
    "    new_table = new_soup.find('table', {'class', 'd3-o-table'})\n",
    "    print(new_res)\n",
    "    \n",
    "    # for row in new_table.find_all('tr')[1:]:\n",
    "    #     qb = {}\n",
    "    #     qb['name'] = row.find('a').text.strip()\n",
    "    #     qb['pass_yds'] = row.find('td', {'class': 'selected'}).text.strip()\n",
    "    #     qb['yds/att'] = row.find_all('td')[2].text.strip()\n",
    "    #     qb['att'] = row.find_all('td')[3].text.strip()\n",
    "    #     qb['cmp'] = row.find_all('td')[4].text.strip()\n",
    "    #     qb['cmp_perc'] = row.find_all('td')[5].text.strip()\n",
    "    #     qb['td'] = row.find_all('td')[6].text.strip()\n",
    "    #     qb['int'] = row.find_all('td')[7].text.strip()\n",
    "    #     qb['rate'] = row.find_all('td')[8].text.strip()\n",
    "    #     qb['1st'] = row.find_all('td')[9].text.strip()\n",
    "    #     qb['1st_perc'] = row.find_all('td')[10].text.strip()\n",
    "    #     qb['20_plus'] = row.find_all('td')[11].text.strip()\n",
    "    #     qb['40_plus'] = row.find_all('td')[12].text.strip()\n",
    "    #     qb['long'] = row.find_all('td')[13].text.strip()\n",
    "    #     qb['sacked'] = row.find_all('td')[14].text.strip()\n",
    "    #     qb['sack_yds'] = row.find_all('td')[15].text.strip()\n",
    "    #     stats.append(qb)\n",
    "    \n",
    "    # time.sleep(3)\n",
    "\n",
    "stats"
   ]
  },
  {
   "cell_type": "code",
   "execution_count": 13,
   "id": "eb1bd4fd-903d-4ad1-b8c9-144b44299f11",
   "metadata": {},
   "outputs": [],
   "source": [
    "qb_fantasy_points = {\n",
    "            'touchdown': 6,\n",
    "            'pass_yds': 25,\n",
    "            'interception': -2,\n",
    "        }"
   ]
  },
  {
   "cell_type": "code",
   "execution_count": 14,
   "id": "be54affd-f72f-4aa8-ade2-758e4132ceef",
   "metadata": {},
   "outputs": [
    {
     "ename": "NameError",
     "evalue": "name 'qb' is not defined",
     "output_type": "error",
     "traceback": [
      "\u001b[0;31m---------------------------------------------------------------------------\u001b[0m",
      "\u001b[0;31mNameError\u001b[0m                                 Traceback (most recent call last)",
      "\u001b[0;32m/var/folders/qp/clfzg_bn2wlgtrx99d36qsxw0000gn/T/ipykernel_30556/2546100205.py\u001b[0m in \u001b[0;36m<module>\u001b[0;34m\u001b[0m\n\u001b[0;32m----> 1\u001b[0;31m \u001b[0mqb\u001b[0m\u001b[0;34m[\u001b[0m\u001b[0;34m'fantasy_pts'\u001b[0m\u001b[0;34m]\u001b[0m \u001b[0;34m=\u001b[0m \u001b[0mqb\u001b[0m\u001b[0;34m[\u001b[0m\u001b[0;34m'td'\u001b[0m\u001b[0;34m]\u001b[0m\u001b[0;34m.\u001b[0m\u001b[0mmultiply\u001b[0m\u001b[0;34m(\u001b[0m\u001b[0mqb_fantasy_points\u001b[0m\u001b[0;34m[\u001b[0m\u001b[0;34m'touchdown'\u001b[0m\u001b[0;34m]\u001b[0m\u001b[0;34m)\u001b[0m \u001b[0;34m+\u001b[0m \u001b[0mqb\u001b[0m\u001b[0;34m[\u001b[0m\u001b[0;34m'pass_yds'\u001b[0m\u001b[0;34m]\u001b[0m\u001b[0;34m.\u001b[0m\u001b[0mdivide\u001b[0m\u001b[0;34m(\u001b[0m\u001b[0mqb_fantasy_points\u001b[0m\u001b[0;34m[\u001b[0m\u001b[0;34m'pass_yds'\u001b[0m\u001b[0;34m]\u001b[0m\u001b[0;34m)\u001b[0m \u001b[0;34m+\u001b[0m \u001b[0mqb\u001b[0m\u001b[0;34m[\u001b[0m\u001b[0;34m'int'\u001b[0m\u001b[0;34m]\u001b[0m\u001b[0;34m.\u001b[0m\u001b[0mmultiply\u001b[0m\u001b[0;34m(\u001b[0m\u001b[0mqb_fantasy_points\u001b[0m\u001b[0;34m[\u001b[0m\u001b[0;34m'interception'\u001b[0m\u001b[0;34m]\u001b[0m\u001b[0;34m)\u001b[0m\u001b[0;34m\u001b[0m\u001b[0;34m\u001b[0m\u001b[0m\n\u001b[0m",
      "\u001b[0;31mNameError\u001b[0m: name 'qb' is not defined"
     ]
    }
   ],
   "source": [
    "qb['fantasy_pts'] = qb['td'].multiply(qb_fantasy_points['touchdown']) + qb['pass_yds'].divide(qb_fantasy_points['pass_yds']) + qb['int'].multiply(qb_fantasy_points['interception'])\n"
   ]
  },
  {
   "cell_type": "code",
   "execution_count": 15,
   "id": "6a1bf0d3-686b-45e6-8394-ee1dffbee844",
   "metadata": {
    "tags": []
   },
   "outputs": [],
   "source": [
    "# Not really working when I try to use the .map function here\n",
    "\n",
    "def calc_fantasy_points(column):\n",
    "    return qb['td'].multiply(point_list[0]) + qb['pass_yds'].divide(point_list[1]) + qb['int'].multiply(point_list[2])"
   ]
  },
  {
   "cell_type": "code",
   "execution_count": null,
   "id": "8e8f7bac-ac73-4dd6-aed3-cbfa99be2ae3",
   "metadata": {
    "tags": []
   },
   "outputs": [],
   "source": [
    "# Not really working \n",
    "# qb['fantasy_pts_func'] = pd.Series(dtype='int')\n",
    "\n",
    "# qb['fantasy_pts_func'] = qb['fantasy_pts_func'].map(calc_fantasy_points)"
   ]
  },
  {
   "cell_type": "code",
   "execution_count": null,
   "id": "657fbb8d-2e5a-4172-823f-8dda2b4b674e",
   "metadata": {
    "tags": []
   },
   "outputs": [],
   "source": [
    "# ...Then this is needed!\n",
    "# qb.drop(columns=['fantasy_pts_func'], inplace=True)"
   ]
  },
  {
   "cell_type": "code",
   "execution_count": null,
   "id": "3a18d36e-be81-4762-96e9-a64df9457b1e",
   "metadata": {},
   "outputs": [],
   "source": [
    "qb"
   ]
  },
  {
   "cell_type": "code",
   "execution_count": null,
   "id": "e6d2cf15-c3b3-4788-8eaa-cfe77fce606c",
   "metadata": {},
   "outputs": [],
   "source": []
  },
  {
   "cell_type": "code",
   "execution_count": null,
   "id": "c4778ebc-509e-454e-8e20-10ceb130d7f4",
   "metadata": {},
   "outputs": [],
   "source": []
  }
 ],
 "metadata": {
  "kernelspec": {
   "display_name": "Python 3 (ipykernel)",
   "language": "python",
   "name": "python3"
  },
  "language_info": {
   "codemirror_mode": {
    "name": "ipython",
    "version": 3
   },
   "file_extension": ".py",
   "mimetype": "text/x-python",
   "name": "python",
   "nbconvert_exporter": "python",
   "pygments_lexer": "ipython3",
   "version": "3.9.7"
  }
 },
 "nbformat": 4,
 "nbformat_minor": 5
}
