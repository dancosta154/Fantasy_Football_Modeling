{
 "cells": [
  {
   "cell_type": "markdown",
   "id": "826e5f61-0ca5-42c1-9e67-ba9349e49f7a",
   "metadata": {},
   "source": [
    "#### This Notebook is old too\n",
    "Also not deleting til we're sure we don't need anything"
   ]
  },
  {
   "cell_type": "code",
   "execution_count": 1,
   "id": "214271af-29a1-49a2-b2c1-84da30452d99",
   "metadata": {},
   "outputs": [],
   "source": [
    "import pandas as pd\n",
    "import requests\n",
    "from bs4 import BeautifulSoup\n",
    "import time"
   ]
  },
  {
   "cell_type": "code",
   "execution_count": null,
   "id": "7cba8781-245f-4be3-b5fc-946acd71ffb3",
   "metadata": {},
   "outputs": [
    {
     "data": {
      "text/plain": [
       "(200, '<!DOCTYPE html><html lang=\"en-US\" dir=\"ltr\"><head>')"
      ]
     },
     "execution_count": 2,
     "metadata": {},
     "output_type": "execute_result"
    }
   ],
   "source": [
    "url = 'https://www.nfl.com/stats/player-stats/category/passing/2021/REG/all/passingyards/DESC'\n",
    "res = requests.get(url)\n",
    "\n",
    "res.status_code, res.text[:50]"
   ]
  },
  {
   "cell_type": "code",
   "execution_count": 3,
   "id": "0f5e7e71-7fe5-49c8-ae8c-285ddda17b09",
   "metadata": {},
   "outputs": [
    {
     "data": {
      "text/plain": [
       "bs4.element.Tag"
      ]
     },
     "execution_count": 3,
     "metadata": {},
     "output_type": "execute_result"
    }
   ],
   "source": [
    "soup = BeautifulSoup(res.text, 'lxml')\n",
    "\n",
    "table = soup.find('table', {'class', 'd3-o-table'})\n",
    "type(table)"
   ]
  },
  {
   "cell_type": "code",
   "execution_count": 4,
   "id": "eed36d5b-a68f-4029-9bfa-a58fbd2b6030",
   "metadata": {
    "tags": []
   },
   "outputs": [],
   "source": [
    "qb_2021 = []\n",
    "for row in table.find_all('tr')[1:]:\n",
    "    qb = {}\n",
    "    qb['name'] = row.find('a').text.strip()\n",
    "    qb['pass_yds'] = row.find('td', {'class': 'selected'}).text.strip()\n",
    "    qb['yds/att'] = row.find_all('td')[2].text.strip()\n",
    "    qb['att'] = row.find_all('td')[3].text.strip()\n",
    "    qb['cmp'] = row.find_all('td')[4].text.strip()\n",
    "    qb['cmp_perc'] = row.find_all('td')[5].text.strip()\n",
    "    qb['td'] = row.find_all('td')[6].text.strip()\n",
    "    qb['int'] = row.find_all('td')[7].text.strip()\n",
    "    qb['rate'] = row.find_all('td')[8].text.strip()\n",
    "    qb['1st'] = row.find_all('td')[9].text.strip()\n",
    "    qb['1st_perc'] = row.find_all('td')[10].text.strip()\n",
    "    qb['20_plus'] = row.find_all('td')[11].text.strip()\n",
    "    qb['40_plus'] = row.find_all('td')[12].text.strip()\n",
    "    qb['long'] = row.find_all('td')[13].text.strip()\n",
    "    qb['sacked'] = row.find_all('td')[14].text.strip()\n",
    "    qb['sack_yds'] = row.find_all('td')[15].text.strip()\n",
    "    qb_2021.append(qb)\n",
    "    \n",
    "time.sleep(3)\n",
    "\n",
    "qb_2021 = pd.DataFrame.from_dict(qb_2021, orient='columns')"
   ]
  },
  {
   "cell_type": "code",
   "execution_count": 5,
   "id": "63aff0e7-0001-48aa-8c7a-f8fde37ecd90",
   "metadata": {},
   "outputs": [
    {
     "data": {
      "text/html": [
       "<div>\n",
       "<style scoped>\n",
       "    .dataframe tbody tr th:only-of-type {\n",
       "        vertical-align: middle;\n",
       "    }\n",
       "\n",
       "    .dataframe tbody tr th {\n",
       "        vertical-align: top;\n",
       "    }\n",
       "\n",
       "    .dataframe thead th {\n",
       "        text-align: right;\n",
       "    }\n",
       "</style>\n",
       "<table border=\"1\" class=\"dataframe\">\n",
       "  <thead>\n",
       "    <tr style=\"text-align: right;\">\n",
       "      <th></th>\n",
       "      <th>name</th>\n",
       "      <th>pass_yds</th>\n",
       "      <th>yds/att</th>\n",
       "      <th>att</th>\n",
       "      <th>cmp</th>\n",
       "      <th>cmp_perc</th>\n",
       "      <th>td</th>\n",
       "      <th>int</th>\n",
       "      <th>rate</th>\n",
       "      <th>1st</th>\n",
       "      <th>1st_perc</th>\n",
       "      <th>20_plus</th>\n",
       "      <th>40_plus</th>\n",
       "      <th>long</th>\n",
       "      <th>sacked</th>\n",
       "      <th>sack_yds</th>\n",
       "    </tr>\n",
       "  </thead>\n",
       "  <tbody>\n",
       "    <tr>\n",
       "      <th>0</th>\n",
       "      <td>Tom Brady</td>\n",
       "      <td>5316</td>\n",
       "      <td>7.4</td>\n",
       "      <td>719</td>\n",
       "      <td>485</td>\n",
       "      <td>0.675</td>\n",
       "      <td>43</td>\n",
       "      <td>12</td>\n",
       "      <td>102.1</td>\n",
       "      <td>269</td>\n",
       "      <td>0.374</td>\n",
       "      <td>75</td>\n",
       "      <td>10</td>\n",
       "      <td>62</td>\n",
       "      <td>22</td>\n",
       "      <td>144</td>\n",
       "    </tr>\n",
       "    <tr>\n",
       "      <th>1</th>\n",
       "      <td>Justin Herbert</td>\n",
       "      <td>5014</td>\n",
       "      <td>7.5</td>\n",
       "      <td>672</td>\n",
       "      <td>443</td>\n",
       "      <td>0.659</td>\n",
       "      <td>38</td>\n",
       "      <td>15</td>\n",
       "      <td>97.7</td>\n",
       "      <td>256</td>\n",
       "      <td>0.381</td>\n",
       "      <td>53</td>\n",
       "      <td>15</td>\n",
       "      <td>72</td>\n",
       "      <td>31</td>\n",
       "      <td>214</td>\n",
       "    </tr>\n",
       "    <tr>\n",
       "      <th>2</th>\n",
       "      <td>Matthew Stafford</td>\n",
       "      <td>4886</td>\n",
       "      <td>8.1</td>\n",
       "      <td>601</td>\n",
       "      <td>404</td>\n",
       "      <td>0.672</td>\n",
       "      <td>41</td>\n",
       "      <td>17</td>\n",
       "      <td>102.9</td>\n",
       "      <td>233</td>\n",
       "      <td>0.388</td>\n",
       "      <td>65</td>\n",
       "      <td>18</td>\n",
       "      <td>79</td>\n",
       "      <td>30</td>\n",
       "      <td>243</td>\n",
       "    </tr>\n",
       "    <tr>\n",
       "      <th>3</th>\n",
       "      <td>Patrick Mahomes</td>\n",
       "      <td>4839</td>\n",
       "      <td>7.4</td>\n",
       "      <td>658</td>\n",
       "      <td>436</td>\n",
       "      <td>0.663</td>\n",
       "      <td>37</td>\n",
       "      <td>13</td>\n",
       "      <td>98.5</td>\n",
       "      <td>260</td>\n",
       "      <td>0.395</td>\n",
       "      <td>58</td>\n",
       "      <td>11</td>\n",
       "      <td>75</td>\n",
       "      <td>28</td>\n",
       "      <td>146</td>\n",
       "    </tr>\n",
       "    <tr>\n",
       "      <th>4</th>\n",
       "      <td>Derek Carr</td>\n",
       "      <td>4804</td>\n",
       "      <td>7.7</td>\n",
       "      <td>626</td>\n",
       "      <td>428</td>\n",
       "      <td>0.684</td>\n",
       "      <td>23</td>\n",
       "      <td>14</td>\n",
       "      <td>94</td>\n",
       "      <td>217</td>\n",
       "      <td>0.347</td>\n",
       "      <td>67</td>\n",
       "      <td>10</td>\n",
       "      <td>61</td>\n",
       "      <td>40</td>\n",
       "      <td>241</td>\n",
       "    </tr>\n",
       "  </tbody>\n",
       "</table>\n",
       "</div>"
      ],
      "text/plain": [
       "               name pass_yds yds/att  att  cmp cmp_perc  td int   rate  1st  \\\n",
       "0         Tom Brady     5316     7.4  719  485    0.675  43  12  102.1  269   \n",
       "1    Justin Herbert     5014     7.5  672  443    0.659  38  15   97.7  256   \n",
       "2  Matthew Stafford     4886     8.1  601  404    0.672  41  17  102.9  233   \n",
       "3   Patrick Mahomes     4839     7.4  658  436    0.663  37  13   98.5  260   \n",
       "4        Derek Carr     4804     7.7  626  428    0.684  23  14     94  217   \n",
       "\n",
       "  1st_perc 20_plus 40_plus long sacked sack_yds  \n",
       "0    0.374      75      10   62     22      144  \n",
       "1    0.381      53      15   72     31      214  \n",
       "2    0.388      65      18   79     30      243  \n",
       "3    0.395      58      11   75     28      146  \n",
       "4    0.347      67      10   61     40      241  "
      ]
     },
     "execution_count": 5,
     "metadata": {},
     "output_type": "execute_result"
    }
   ],
   "source": [
    "qb_2021.head()"
   ]
  },
  {
   "cell_type": "code",
   "execution_count": 6,
   "id": "b7dbe5aa-ff4e-4893-a443-fb4390c68a1c",
   "metadata": {},
   "outputs": [
    {
     "data": {
      "text/plain": [
       "(25, 16)"
      ]
     },
     "execution_count": 6,
     "metadata": {},
     "output_type": "execute_result"
    }
   ],
   "source": [
    "qb_2021.shape"
   ]
  },
  {
   "cell_type": "code",
   "execution_count": 7,
   "id": "a726a34e-c56a-4dd8-b042-2805d8b83256",
   "metadata": {},
   "outputs": [
    {
     "name": "stdout",
     "output_type": "stream",
     "text": [
      "<class 'pandas.core.frame.DataFrame'>\n",
      "RangeIndex: 25 entries, 0 to 24\n",
      "Data columns (total 16 columns):\n",
      " #   Column    Non-Null Count  Dtype \n",
      "---  ------    --------------  ----- \n",
      " 0   name      25 non-null     object\n",
      " 1   pass_yds  25 non-null     object\n",
      " 2   yds/att   25 non-null     object\n",
      " 3   att       25 non-null     object\n",
      " 4   cmp       25 non-null     object\n",
      " 5   cmp_perc  25 non-null     object\n",
      " 6   td        25 non-null     object\n",
      " 7   int       25 non-null     object\n",
      " 8   rate      25 non-null     object\n",
      " 9   1st       25 non-null     object\n",
      " 10  1st_perc  25 non-null     object\n",
      " 11  20_plus   25 non-null     object\n",
      " 12  40_plus   25 non-null     object\n",
      " 13  long      25 non-null     object\n",
      " 14  sacked    25 non-null     object\n",
      " 15  sack_yds  25 non-null     object\n",
      "dtypes: object(16)\n",
      "memory usage: 3.2+ KB\n"
     ]
    }
   ],
   "source": [
    "qb_2021.info()"
   ]
  },
  {
   "cell_type": "code",
   "execution_count": 8,
   "id": "8f6b30d6-8072-4a0b-80f2-dd7e7fd9b646",
   "metadata": {},
   "outputs": [],
   "source": [
    "qb_2021['pass_yds'] = qb_2021['pass_yds'].astype(int)\n",
    "qb_2021['yds/att'] = qb_2021['yds/att'].astype(float)\n",
    "qb_2021['att'] = qb_2021['att'].astype(int)\n",
    "qb_2021['cmp'] = qb_2021['cmp'].astype(int)\n",
    "qb_2021['cmp_perc'] = qb_2021['cmp_perc'].astype(float)\n",
    "qb_2021['td'] = qb_2021['td'].astype(int)\n",
    "qb_2021['int'] = qb_2021['int'].astype(int)\n",
    "qb_2021['1st_perc'] = qb_2021['1st_perc'].astype(float)\n",
    "qb_2021['20_plus'] = qb_2021['20_plus'].astype(int)\n",
    "qb_2021['40_plus'] = qb_2021['40_plus'].astype(int)\n",
    "qb_2021['long'] = qb_2021['long'].astype(int)\n",
    "qb_2021['sacked'] = qb_2021['sacked'].astype(int)\n",
    "qb_2021['sack_yds'] = qb_2021['sack_yds'].astype(int)"
   ]
  },
  {
   "cell_type": "code",
   "execution_count": 9,
   "id": "b4fc5ab2-ac27-4628-b562-ea9774282aea",
   "metadata": {},
   "outputs": [
    {
     "name": "stdout",
     "output_type": "stream",
     "text": [
      "<class 'pandas.core.frame.DataFrame'>\n",
      "RangeIndex: 25 entries, 0 to 24\n",
      "Data columns (total 16 columns):\n",
      " #   Column    Non-Null Count  Dtype  \n",
      "---  ------    --------------  -----  \n",
      " 0   name      25 non-null     object \n",
      " 1   pass_yds  25 non-null     int64  \n",
      " 2   yds/att   25 non-null     float64\n",
      " 3   att       25 non-null     int64  \n",
      " 4   cmp       25 non-null     int64  \n",
      " 5   cmp_perc  25 non-null     float64\n",
      " 6   td        25 non-null     int64  \n",
      " 7   int       25 non-null     int64  \n",
      " 8   rate      25 non-null     object \n",
      " 9   1st       25 non-null     object \n",
      " 10  1st_perc  25 non-null     float64\n",
      " 11  20_plus   25 non-null     int64  \n",
      " 12  40_plus   25 non-null     int64  \n",
      " 13  long      25 non-null     int64  \n",
      " 14  sacked    25 non-null     int64  \n",
      " 15  sack_yds  25 non-null     int64  \n",
      "dtypes: float64(3), int64(10), object(3)\n",
      "memory usage: 3.2+ KB\n"
     ]
    }
   ],
   "source": [
    "qb_2021.info()"
   ]
  },
  {
   "cell_type": "markdown",
   "id": "2d262f98-743b-4ecc-85f3-bd9b276823ad",
   "metadata": {},
   "source": [
    "## 2020"
   ]
  },
  {
   "cell_type": "code",
   "execution_count": 10,
   "id": "fadbfd84-80c2-4c8d-b61d-56bfb58d5d38",
   "metadata": {},
   "outputs": [
    {
     "data": {
      "text/plain": [
       "(200, '<!DOCTYPE html><html lang=\"en-US\" dir=\"ltr\"><head>')"
      ]
     },
     "execution_count": 10,
     "metadata": {},
     "output_type": "execute_result"
    }
   ],
   "source": [
    "url = 'https://www.nfl.com/stats/player-stats/category/passing/2020/REG/all/passingyards/DESC'\n",
    "res = requests.get(url)\n",
    "\n",
    "res.status_code, res.text[:50]"
   ]
  },
  {
   "cell_type": "code",
   "execution_count": 11,
   "id": "5ca7055a-9f6c-4212-87b2-195b423fac25",
   "metadata": {},
   "outputs": [
    {
     "data": {
      "text/plain": [
       "bs4.element.Tag"
      ]
     },
     "execution_count": 11,
     "metadata": {},
     "output_type": "execute_result"
    }
   ],
   "source": [
    "soup = BeautifulSoup(res.text, 'lxml')\n",
    "\n",
    "table = soup.find('table', {'class', 'd3-o-table'})\n",
    "type(table)"
   ]
  },
  {
   "cell_type": "code",
   "execution_count": 12,
   "id": "f0822fd6-187b-4d35-9535-48a00307c1d0",
   "metadata": {},
   "outputs": [],
   "source": [
    "qb_2020 = []\n",
    "for row in table.find_all('tr')[1:]:\n",
    "    qb = {}\n",
    "    qb['name'] = row.find('a').text.strip()\n",
    "    qb['pass_yds'] = row.find('td', {'class': 'selected'}).text.strip()\n",
    "    qb['yds/att'] = row.find_all('td')[2].text.strip()\n",
    "    qb['att'] = row.find_all('td')[3].text.strip()\n",
    "    qb['cmp'] = row.find_all('td')[4].text.strip()\n",
    "    qb['cmp_perc'] = row.find_all('td')[5].text.strip()\n",
    "    qb['td'] = row.find_all('td')[6].text.strip()\n",
    "    qb['int'] = row.find_all('td')[7].text.strip()\n",
    "    qb['rate'] = row.find_all('td')[8].text.strip()\n",
    "    qb['1st'] = row.find_all('td')[9].text.strip()\n",
    "    qb['1st_perc'] = row.find_all('td')[10].text.strip()\n",
    "    qb['20_plus'] = row.find_all('td')[11].text.strip()\n",
    "    qb['40_plus'] = row.find_all('td')[12].text.strip()\n",
    "    qb['long'] = row.find_all('td')[13].text.strip()\n",
    "    qb['sacked'] = row.find_all('td')[14].text.strip()\n",
    "    qb['sack_yds'] = row.find_all('td')[15].text.strip()\n",
    "    qb_2020.append(qb)\n",
    "    \n",
    "time.sleep(3)\n",
    "\n",
    "qb_2020 = pd.DataFrame.from_dict(qb_2020, orient='columns')"
   ]
  },
  {
   "cell_type": "code",
   "execution_count": 13,
   "id": "bf491369-9ea4-4b70-9b75-ad1cf6d19198",
   "metadata": {},
   "outputs": [
    {
     "data": {
      "text/html": [
       "<div>\n",
       "<style scoped>\n",
       "    .dataframe tbody tr th:only-of-type {\n",
       "        vertical-align: middle;\n",
       "    }\n",
       "\n",
       "    .dataframe tbody tr th {\n",
       "        vertical-align: top;\n",
       "    }\n",
       "\n",
       "    .dataframe thead th {\n",
       "        text-align: right;\n",
       "    }\n",
       "</style>\n",
       "<table border=\"1\" class=\"dataframe\">\n",
       "  <thead>\n",
       "    <tr style=\"text-align: right;\">\n",
       "      <th></th>\n",
       "      <th>name</th>\n",
       "      <th>pass_yds</th>\n",
       "      <th>yds/att</th>\n",
       "      <th>att</th>\n",
       "      <th>cmp</th>\n",
       "      <th>cmp_perc</th>\n",
       "      <th>td</th>\n",
       "      <th>int</th>\n",
       "      <th>rate</th>\n",
       "      <th>1st</th>\n",
       "      <th>1st_perc</th>\n",
       "      <th>20_plus</th>\n",
       "      <th>40_plus</th>\n",
       "      <th>long</th>\n",
       "      <th>sacked</th>\n",
       "      <th>sack_yds</th>\n",
       "    </tr>\n",
       "  </thead>\n",
       "  <tbody>\n",
       "    <tr>\n",
       "      <th>0</th>\n",
       "      <td>Deshaun Watson</td>\n",
       "      <td>4823</td>\n",
       "      <td>8.9</td>\n",
       "      <td>544</td>\n",
       "      <td>382</td>\n",
       "      <td>0.702</td>\n",
       "      <td>33</td>\n",
       "      <td>7</td>\n",
       "      <td>112.4</td>\n",
       "      <td>221</td>\n",
       "      <td>0.406</td>\n",
       "      <td>69</td>\n",
       "      <td>11</td>\n",
       "      <td>77</td>\n",
       "      <td>49</td>\n",
       "      <td>293</td>\n",
       "    </tr>\n",
       "    <tr>\n",
       "      <th>1</th>\n",
       "      <td>Patrick Mahomes</td>\n",
       "      <td>4740</td>\n",
       "      <td>8.1</td>\n",
       "      <td>588</td>\n",
       "      <td>390</td>\n",
       "      <td>0.663</td>\n",
       "      <td>38</td>\n",
       "      <td>6</td>\n",
       "      <td>108.2</td>\n",
       "      <td>238</td>\n",
       "      <td>0.405</td>\n",
       "      <td>67</td>\n",
       "      <td>8</td>\n",
       "      <td>75</td>\n",
       "      <td>22</td>\n",
       "      <td>147</td>\n",
       "    </tr>\n",
       "    <tr>\n",
       "      <th>2</th>\n",
       "      <td>Tom Brady</td>\n",
       "      <td>4633</td>\n",
       "      <td>7.6</td>\n",
       "      <td>610</td>\n",
       "      <td>401</td>\n",
       "      <td>0.657</td>\n",
       "      <td>40</td>\n",
       "      <td>12</td>\n",
       "      <td>102.2</td>\n",
       "      <td>233</td>\n",
       "      <td>0.382</td>\n",
       "      <td>63</td>\n",
       "      <td>12</td>\n",
       "      <td>50</td>\n",
       "      <td>21</td>\n",
       "      <td>143</td>\n",
       "    </tr>\n",
       "    <tr>\n",
       "      <th>3</th>\n",
       "      <td>Matt Ryan</td>\n",
       "      <td>4581</td>\n",
       "      <td>7.3</td>\n",
       "      <td>626</td>\n",
       "      <td>407</td>\n",
       "      <td>0.65</td>\n",
       "      <td>26</td>\n",
       "      <td>11</td>\n",
       "      <td>93.3</td>\n",
       "      <td>242</td>\n",
       "      <td>0.387</td>\n",
       "      <td>58</td>\n",
       "      <td>8</td>\n",
       "      <td>63</td>\n",
       "      <td>41</td>\n",
       "      <td>257</td>\n",
       "    </tr>\n",
       "    <tr>\n",
       "      <th>4</th>\n",
       "      <td>Josh Allen</td>\n",
       "      <td>4544</td>\n",
       "      <td>7.9</td>\n",
       "      <td>572</td>\n",
       "      <td>396</td>\n",
       "      <td>0.692</td>\n",
       "      <td>37</td>\n",
       "      <td>10</td>\n",
       "      <td>107.2</td>\n",
       "      <td>228</td>\n",
       "      <td>0.399</td>\n",
       "      <td>62</td>\n",
       "      <td>8</td>\n",
       "      <td>55</td>\n",
       "      <td>26</td>\n",
       "      <td>159</td>\n",
       "    </tr>\n",
       "  </tbody>\n",
       "</table>\n",
       "</div>"
      ],
      "text/plain": [
       "              name pass_yds yds/att  att  cmp cmp_perc  td int   rate  1st  \\\n",
       "0   Deshaun Watson     4823     8.9  544  382    0.702  33   7  112.4  221   \n",
       "1  Patrick Mahomes     4740     8.1  588  390    0.663  38   6  108.2  238   \n",
       "2        Tom Brady     4633     7.6  610  401    0.657  40  12  102.2  233   \n",
       "3        Matt Ryan     4581     7.3  626  407     0.65  26  11   93.3  242   \n",
       "4       Josh Allen     4544     7.9  572  396    0.692  37  10  107.2  228   \n",
       "\n",
       "  1st_perc 20_plus 40_plus long sacked sack_yds  \n",
       "0    0.406      69      11   77     49      293  \n",
       "1    0.405      67       8   75     22      147  \n",
       "2    0.382      63      12   50     21      143  \n",
       "3    0.387      58       8   63     41      257  \n",
       "4    0.399      62       8   55     26      159  "
      ]
     },
     "execution_count": 13,
     "metadata": {},
     "output_type": "execute_result"
    }
   ],
   "source": [
    "qb_2020.head()"
   ]
  },
  {
   "cell_type": "code",
   "execution_count": 14,
   "id": "1a5dc8ae-a18c-469c-9dd2-9f966b398172",
   "metadata": {},
   "outputs": [
    {
     "data": {
      "text/plain": [
       "(25, 16)"
      ]
     },
     "execution_count": 14,
     "metadata": {},
     "output_type": "execute_result"
    }
   ],
   "source": [
    "qb_2020.shape"
   ]
  },
  {
   "cell_type": "code",
   "execution_count": 15,
   "id": "537ed7c2-03d8-48c6-99c7-7548539e8402",
   "metadata": {},
   "outputs": [
    {
     "name": "stdout",
     "output_type": "stream",
     "text": [
      "<class 'pandas.core.frame.DataFrame'>\n",
      "RangeIndex: 25 entries, 0 to 24\n",
      "Data columns (total 16 columns):\n",
      " #   Column    Non-Null Count  Dtype \n",
      "---  ------    --------------  ----- \n",
      " 0   name      25 non-null     object\n",
      " 1   pass_yds  25 non-null     object\n",
      " 2   yds/att   25 non-null     object\n",
      " 3   att       25 non-null     object\n",
      " 4   cmp       25 non-null     object\n",
      " 5   cmp_perc  25 non-null     object\n",
      " 6   td        25 non-null     object\n",
      " 7   int       25 non-null     object\n",
      " 8   rate      25 non-null     object\n",
      " 9   1st       25 non-null     object\n",
      " 10  1st_perc  25 non-null     object\n",
      " 11  20_plus   25 non-null     object\n",
      " 12  40_plus   25 non-null     object\n",
      " 13  long      25 non-null     object\n",
      " 14  sacked    25 non-null     object\n",
      " 15  sack_yds  25 non-null     object\n",
      "dtypes: object(16)\n",
      "memory usage: 3.2+ KB\n"
     ]
    }
   ],
   "source": [
    "qb_2020.info()"
   ]
  },
  {
   "cell_type": "code",
   "execution_count": 16,
   "id": "e6f1e5dd-9610-4619-acda-c8e7d2705114",
   "metadata": {},
   "outputs": [],
   "source": [
    "qb_2020['pass_yds'] = qb_2020['pass_yds'].astype(int)\n",
    "qb_2020['yds/att'] = qb_2020['yds/att'].astype(float)\n",
    "qb_2020['att'] = qb_2020['att'].astype(int)\n",
    "qb_2020['cmp'] = qb_2020['cmp'].astype(int)\n",
    "qb_2020['cmp_perc'] = qb_2020['cmp_perc'].astype(float)\n",
    "qb_2020['td'] = qb_2020['td'].astype(int)\n",
    "qb_2020['int'] = qb_2020['int'].astype(int)\n",
    "qb_2020['1st_perc'] = qb_2020['1st_perc'].astype(float)\n",
    "qb_2020['20_plus'] = qb_2020['20_plus'].astype(int)\n",
    "qb_2020['40_plus'] = qb_2020['40_plus'].astype(int)\n",
    "qb_2020['long'] = qb_2020['long'].astype(int)\n",
    "qb_2020['sacked'] = qb_2020['sacked'].astype(int)\n",
    "qb_2020['sack_yds'] = qb_2020['sack_yds'].astype(int)"
   ]
  },
  {
   "cell_type": "code",
   "execution_count": 17,
   "id": "8ab94170-c89e-42dd-8f9e-033acc3fe734",
   "metadata": {},
   "outputs": [
    {
     "name": "stdout",
     "output_type": "stream",
     "text": [
      "<class 'pandas.core.frame.DataFrame'>\n",
      "RangeIndex: 25 entries, 0 to 24\n",
      "Data columns (total 16 columns):\n",
      " #   Column    Non-Null Count  Dtype  \n",
      "---  ------    --------------  -----  \n",
      " 0   name      25 non-null     object \n",
      " 1   pass_yds  25 non-null     int64  \n",
      " 2   yds/att   25 non-null     float64\n",
      " 3   att       25 non-null     int64  \n",
      " 4   cmp       25 non-null     int64  \n",
      " 5   cmp_perc  25 non-null     float64\n",
      " 6   td        25 non-null     int64  \n",
      " 7   int       25 non-null     int64  \n",
      " 8   rate      25 non-null     object \n",
      " 9   1st       25 non-null     object \n",
      " 10  1st_perc  25 non-null     float64\n",
      " 11  20_plus   25 non-null     int64  \n",
      " 12  40_plus   25 non-null     int64  \n",
      " 13  long      25 non-null     int64  \n",
      " 14  sacked    25 non-null     int64  \n",
      " 15  sack_yds  25 non-null     int64  \n",
      "dtypes: float64(3), int64(10), object(3)\n",
      "memory usage: 3.2+ KB\n"
     ]
    }
   ],
   "source": [
    "qb_2020.info()"
   ]
  },
  {
   "cell_type": "markdown",
   "id": "1a591e19-a1b2-4aae-a4e2-2bd4b916c3cd",
   "metadata": {},
   "source": [
    "# 2001 - TB's Rookie Season"
   ]
  },
  {
   "cell_type": "code",
   "execution_count": 18,
   "id": "85152377-2f9d-429a-b060-67134ae1edec",
   "metadata": {},
   "outputs": [
    {
     "data": {
      "text/plain": [
       "(200, '<!DOCTYPE html><html lang=\"en-US\" dir=\"ltr\"><head>')"
      ]
     },
     "execution_count": 18,
     "metadata": {},
     "output_type": "execute_result"
    }
   ],
   "source": [
    "url = 'https://www.nfl.com/stats/player-stats/category/passing/2001/REG/all/passingyards/DESC'\n",
    "res = requests.get(url)\n",
    "\n",
    "res.status_code, res.text[:50]"
   ]
  },
  {
   "cell_type": "code",
   "execution_count": 19,
   "id": "a156e566-7d29-459e-af60-ec3063dd1c8a",
   "metadata": {},
   "outputs": [
    {
     "data": {
      "text/plain": [
       "bs4.element.Tag"
      ]
     },
     "execution_count": 19,
     "metadata": {},
     "output_type": "execute_result"
    }
   ],
   "source": [
    "soup = BeautifulSoup(res.text, 'lxml')\n",
    "\n",
    "table = soup.find('table', {'class', 'd3-o-table'})\n",
    "type(table)"
   ]
  },
  {
   "cell_type": "code",
   "execution_count": 20,
   "id": "35e491ba-bcda-40a6-8450-3cbc4d997435",
   "metadata": {},
   "outputs": [],
   "source": [
    "qb_2001 = []\n",
    "for row in table.find_all('tr')[1:]:\n",
    "    qb = {}\n",
    "    qb['name'] = row.find('a').text.strip()\n",
    "    qb['pass_yds'] = row.find('td', {'class': 'selected'}).text.strip()\n",
    "    qb['yds/att'] = row.find_all('td')[2].text.strip()\n",
    "    qb['att'] = row.find_all('td')[3].text.strip()\n",
    "    qb['cmp'] = row.find_all('td')[4].text.strip()\n",
    "    qb['cmp_perc'] = row.find_all('td')[5].text.strip()\n",
    "    qb['td'] = row.find_all('td')[6].text.strip()\n",
    "    qb['int'] = row.find_all('td')[7].text.strip()\n",
    "    qb['rate'] = row.find_all('td')[8].text.strip()\n",
    "    qb['1st'] = row.find_all('td')[9].text.strip()\n",
    "    qb['1st_perc'] = row.find_all('td')[10].text.strip()\n",
    "    qb['20_plus'] = row.find_all('td')[11].text.strip()\n",
    "    qb['40_plus'] = row.find_all('td')[12].text.strip()\n",
    "    qb['long'] = row.find_all('td')[13].text.strip()\n",
    "    qb['sacked'] = row.find_all('td')[14].text.strip()\n",
    "    qb['sack_yds'] = row.find_all('td')[15].text.strip()\n",
    "    qb_2001.append(qb)\n",
    "    \n",
    "time.sleep(3)\n",
    "\n",
    "qb_2001 = pd.DataFrame.from_dict(qb_2001, orient='columns')"
   ]
  },
  {
   "cell_type": "code",
   "execution_count": 21,
   "id": "e3f93341-2b11-4d2a-befa-94d89b8f529c",
   "metadata": {},
   "outputs": [
    {
     "data": {
      "text/html": [
       "<div>\n",
       "<style scoped>\n",
       "    .dataframe tbody tr th:only-of-type {\n",
       "        vertical-align: middle;\n",
       "    }\n",
       "\n",
       "    .dataframe tbody tr th {\n",
       "        vertical-align: top;\n",
       "    }\n",
       "\n",
       "    .dataframe thead th {\n",
       "        text-align: right;\n",
       "    }\n",
       "</style>\n",
       "<table border=\"1\" class=\"dataframe\">\n",
       "  <thead>\n",
       "    <tr style=\"text-align: right;\">\n",
       "      <th></th>\n",
       "      <th>name</th>\n",
       "      <th>pass_yds</th>\n",
       "      <th>yds/att</th>\n",
       "      <th>att</th>\n",
       "      <th>cmp</th>\n",
       "      <th>cmp_perc</th>\n",
       "      <th>td</th>\n",
       "      <th>int</th>\n",
       "      <th>rate</th>\n",
       "      <th>1st</th>\n",
       "      <th>1st_perc</th>\n",
       "      <th>20_plus</th>\n",
       "      <th>40_plus</th>\n",
       "      <th>long</th>\n",
       "      <th>sacked</th>\n",
       "      <th>sack_yds</th>\n",
       "    </tr>\n",
       "  </thead>\n",
       "  <tbody>\n",
       "    <tr>\n",
       "      <th>0</th>\n",
       "      <td>Kurt Warner</td>\n",
       "      <td>4830</td>\n",
       "      <td>8.8</td>\n",
       "      <td>546</td>\n",
       "      <td>375</td>\n",
       "      <td>0.687</td>\n",
       "      <td>36</td>\n",
       "      <td>22</td>\n",
       "      <td>101.4</td>\n",
       "      <td>233</td>\n",
       "      <td>0.427</td>\n",
       "      <td>81</td>\n",
       "      <td>11</td>\n",
       "      <td>65</td>\n",
       "      <td>38</td>\n",
       "      <td>233</td>\n",
       "    </tr>\n",
       "    <tr>\n",
       "      <th>1</th>\n",
       "      <td>Peyton Manning</td>\n",
       "      <td>4131</td>\n",
       "      <td>7.6</td>\n",
       "      <td>547</td>\n",
       "      <td>343</td>\n",
       "      <td>0.627</td>\n",
       "      <td>26</td>\n",
       "      <td>23</td>\n",
       "      <td>84.1</td>\n",
       "      <td>201</td>\n",
       "      <td>0.367</td>\n",
       "      <td>55</td>\n",
       "      <td>11</td>\n",
       "      <td>86</td>\n",
       "      <td>29</td>\n",
       "      <td>232</td>\n",
       "    </tr>\n",
       "    <tr>\n",
       "      <th>2</th>\n",
       "      <td>Brett Favre</td>\n",
       "      <td>3921</td>\n",
       "      <td>7.7</td>\n",
       "      <td>510</td>\n",
       "      <td>314</td>\n",
       "      <td>0.616</td>\n",
       "      <td>32</td>\n",
       "      <td>15</td>\n",
       "      <td>94.1</td>\n",
       "      <td>187</td>\n",
       "      <td>0.367</td>\n",
       "      <td>53</td>\n",
       "      <td>13</td>\n",
       "      <td>67</td>\n",
       "      <td>22</td>\n",
       "      <td>151</td>\n",
       "    </tr>\n",
       "    <tr>\n",
       "      <th>3</th>\n",
       "      <td>Aaron Brooks</td>\n",
       "      <td>3832</td>\n",
       "      <td>6.9</td>\n",
       "      <td>558</td>\n",
       "      <td>312</td>\n",
       "      <td>0.559</td>\n",
       "      <td>26</td>\n",
       "      <td>22</td>\n",
       "      <td>76.4</td>\n",
       "      <td>183</td>\n",
       "      <td>0.328</td>\n",
       "      <td>55</td>\n",
       "      <td>13</td>\n",
       "      <td>63</td>\n",
       "      <td>50</td>\n",
       "      <td>330</td>\n",
       "    </tr>\n",
       "    <tr>\n",
       "      <th>4</th>\n",
       "      <td>Rich Gannon</td>\n",
       "      <td>3828</td>\n",
       "      <td>7</td>\n",
       "      <td>549</td>\n",
       "      <td>361</td>\n",
       "      <td>0.658</td>\n",
       "      <td>27</td>\n",
       "      <td>9</td>\n",
       "      <td>95.5</td>\n",
       "      <td>194</td>\n",
       "      <td>0.353</td>\n",
       "      <td>45</td>\n",
       "      <td>5</td>\n",
       "      <td>49</td>\n",
       "      <td>27</td>\n",
       "      <td>155</td>\n",
       "    </tr>\n",
       "  </tbody>\n",
       "</table>\n",
       "</div>"
      ],
      "text/plain": [
       "             name pass_yds yds/att  att  cmp cmp_perc  td int   rate  1st  \\\n",
       "0     Kurt Warner     4830     8.8  546  375    0.687  36  22  101.4  233   \n",
       "1  Peyton Manning     4131     7.6  547  343    0.627  26  23   84.1  201   \n",
       "2     Brett Favre     3921     7.7  510  314    0.616  32  15   94.1  187   \n",
       "3    Aaron Brooks     3832     6.9  558  312    0.559  26  22   76.4  183   \n",
       "4     Rich Gannon     3828       7  549  361    0.658  27   9   95.5  194   \n",
       "\n",
       "  1st_perc 20_plus 40_plus long sacked sack_yds  \n",
       "0    0.427      81      11   65     38      233  \n",
       "1    0.367      55      11   86     29      232  \n",
       "2    0.367      53      13   67     22      151  \n",
       "3    0.328      55      13   63     50      330  \n",
       "4    0.353      45       5   49     27      155  "
      ]
     },
     "execution_count": 21,
     "metadata": {},
     "output_type": "execute_result"
    }
   ],
   "source": [
    "qb_2001.head()"
   ]
  },
  {
   "cell_type": "code",
   "execution_count": 22,
   "id": "490bd775-57ad-4dd4-9d70-98f805c5222c",
   "metadata": {},
   "outputs": [
    {
     "name": "stdout",
     "output_type": "stream",
     "text": [
      "<class 'pandas.core.frame.DataFrame'>\n",
      "RangeIndex: 25 entries, 0 to 24\n",
      "Data columns (total 16 columns):\n",
      " #   Column    Non-Null Count  Dtype \n",
      "---  ------    --------------  ----- \n",
      " 0   name      25 non-null     object\n",
      " 1   pass_yds  25 non-null     object\n",
      " 2   yds/att   25 non-null     object\n",
      " 3   att       25 non-null     object\n",
      " 4   cmp       25 non-null     object\n",
      " 5   cmp_perc  25 non-null     object\n",
      " 6   td        25 non-null     object\n",
      " 7   int       25 non-null     object\n",
      " 8   rate      25 non-null     object\n",
      " 9   1st       25 non-null     object\n",
      " 10  1st_perc  25 non-null     object\n",
      " 11  20_plus   25 non-null     object\n",
      " 12  40_plus   25 non-null     object\n",
      " 13  long      25 non-null     object\n",
      " 14  sacked    25 non-null     object\n",
      " 15  sack_yds  25 non-null     object\n",
      "dtypes: object(16)\n",
      "memory usage: 3.2+ KB\n"
     ]
    }
   ],
   "source": [
    "qb_2001.info()"
   ]
  },
  {
   "cell_type": "code",
   "execution_count": 23,
   "id": "5bbc0d7a-9890-426a-9631-7024782886e4",
   "metadata": {},
   "outputs": [],
   "source": [
    "qb_2001['pass_yds'] = qb_2001['pass_yds'].astype(int)\n",
    "qb_2001['yds/att'] = qb_2001['yds/att'].astype(float)\n",
    "qb_2001['att'] = qb_2001['att'].astype(int)\n",
    "qb_2001['cmp'] = qb_2001['cmp'].astype(int)\n",
    "qb_2001['cmp_perc'] = qb_2001['cmp_perc'].astype(float)\n",
    "qb_2001['td'] = qb_2001['td'].astype(int)\n",
    "qb_2001['int'] = qb_2001['int'].astype(int)\n",
    "qb_2001['1st_perc'] = qb_2001['1st_perc'].astype(float)\n",
    "qb_2001['20_plus'] = qb_2001['20_plus'].astype(int)\n",
    "qb_2001['40_plus'] = qb_2001['40_plus'].astype(int)\n",
    "qb_2001['long'] = qb_2001['long'].astype(int)\n",
    "qb_2001['sacked'] = qb_2001['sacked'].astype(int)\n",
    "qb_2001['sack_yds'] = qb_2001['sack_yds'].astype(int)"
   ]
  },
  {
   "cell_type": "code",
   "execution_count": 24,
   "id": "6f742c9c-9bcc-449c-b17a-c415ec9ea8d5",
   "metadata": {},
   "outputs": [
    {
     "name": "stdout",
     "output_type": "stream",
     "text": [
      "<class 'pandas.core.frame.DataFrame'>\n",
      "RangeIndex: 25 entries, 0 to 24\n",
      "Data columns (total 16 columns):\n",
      " #   Column    Non-Null Count  Dtype  \n",
      "---  ------    --------------  -----  \n",
      " 0   name      25 non-null     object \n",
      " 1   pass_yds  25 non-null     int64  \n",
      " 2   yds/att   25 non-null     float64\n",
      " 3   att       25 non-null     int64  \n",
      " 4   cmp       25 non-null     int64  \n",
      " 5   cmp_perc  25 non-null     float64\n",
      " 6   td        25 non-null     int64  \n",
      " 7   int       25 non-null     int64  \n",
      " 8   rate      25 non-null     object \n",
      " 9   1st       25 non-null     object \n",
      " 10  1st_perc  25 non-null     float64\n",
      " 11  20_plus   25 non-null     int64  \n",
      " 12  40_plus   25 non-null     int64  \n",
      " 13  long      25 non-null     int64  \n",
      " 14  sacked    25 non-null     int64  \n",
      " 15  sack_yds  25 non-null     int64  \n",
      "dtypes: float64(3), int64(10), object(3)\n",
      "memory usage: 3.2+ KB\n"
     ]
    }
   ],
   "source": [
    "qb_2001.info()"
   ]
  },
  {
   "cell_type": "code",
   "execution_count": 25,
   "id": "a33a2926-fc1b-43ec-a395-f44d6051bda5",
   "metadata": {},
   "outputs": [],
   "source": [
    "qb_2001.to_csv('nfl_data/2001_qb.csv', index=False)"
   ]
  },
  {
   "cell_type": "code",
   "execution_count": null,
   "id": "0579e1f4-e5d8-4845-9160-84b0f1d05303",
   "metadata": {},
   "outputs": [],
   "source": []
  },
  {
   "cell_type": "code",
   "execution_count": null,
   "id": "bbd146b0-cbf7-410a-b753-fdbb2c468082",
   "metadata": {},
   "outputs": [],
   "source": []
  },
  {
   "cell_type": "markdown",
   "id": "5bf9be8e-d696-4765-8076-eb74cb13d93b",
   "metadata": {},
   "source": [
    "# Merge df's (not including 2001)"
   ]
  },
  {
   "cell_type": "code",
   "execution_count": 26,
   "id": "80b7ae4e-8c84-4140-ab17-86aa67405b72",
   "metadata": {},
   "outputs": [],
   "source": [
    "qb = pd.merge(qb_2020, qb_2021, on='name')"
   ]
  },
  {
   "cell_type": "code",
   "execution_count": 27,
   "id": "2bb00cce-ce67-48b1-8f5b-058579fa2c4e",
   "metadata": {},
   "outputs": [],
   "source": [
    "qb.rename(columns=lambda s: s.replace('_x', '_2020'), inplace=True)\n",
    "qb.rename(columns=lambda s: s.replace('_y', '_2021'), inplace=True)\n",
    "\n",
    "qb.rename(columns={'pass_2021ds_2020': 'pass_yds_2020'}, inplace=True)\n",
    "qb.rename(columns={'pass_2021ds_2021': 'pass_yds_2021'}, inplace=True)"
   ]
  },
  {
   "cell_type": "markdown",
   "id": "9444a8ce-8f49-4916-965f-080deb175cd5",
   "metadata": {},
   "source": [
    "## Export to CSV"
   ]
  },
  {
   "cell_type": "code",
   "execution_count": 28,
   "id": "dc2b23f6-c3f0-43cf-8a13-13e672120747",
   "metadata": {},
   "outputs": [],
   "source": [
    "qb.to_csv('nfl_data/qb.csv', index=False)"
   ]
  },
  {
   "cell_type": "code",
   "execution_count": null,
   "id": "f98e35cf-f4a7-4c7e-ac4e-81c4a5d2d6a3",
   "metadata": {},
   "outputs": [],
   "source": []
  }
 ],
 "metadata": {
  "kernelspec": {
   "display_name": "Python 3 (ipykernel)",
   "language": "python",
   "name": "python3"
  },
  "language_info": {
   "codemirror_mode": {
    "name": "ipython",
    "version": 3
   },
   "file_extension": ".py",
   "mimetype": "text/x-python",
   "name": "python",
   "nbconvert_exporter": "python",
   "pygments_lexer": "ipython3",
   "version": "3.9.7"
  }
 },
 "nbformat": 4,
 "nbformat_minor": 5
}
